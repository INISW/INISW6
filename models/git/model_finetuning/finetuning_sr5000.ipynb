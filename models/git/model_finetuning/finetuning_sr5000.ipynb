{
 "cells": [
  {
   "cell_type": "markdown",
   "id": "HKnw15x_0ARn",
   "metadata": {
    "id": "HKnw15x_0ARn"
   },
   "source": [
    "### 사전 준비"
   ]
  },
  {
   "cell_type": "code",
   "execution_count": null,
   "id": "L7kbOStuFk27",
   "metadata": {
    "colab": {
     "base_uri": "https://localhost:8080/"
    },
    "executionInfo": {
     "elapsed": 17993,
     "status": "ok",
     "timestamp": 1686937378013,
     "user": {
      "displayName": "지능정보 SW아카데미6조",
      "userId": "12490553424211353381"
     },
     "user_tz": -540
    },
    "id": "L7kbOStuFk27",
    "outputId": "ac6ae7dc-bbb0-4862-a82b-7f0389c09ed5"
   },
   "outputs": [
    {
     "name": "stdout",
     "output_type": "stream",
     "text": [
      "Looking in indexes: https://pypi.org/simple, https://us-python.pkg.dev/colab-wheels/public/simple/\n",
      "Collecting transformers==4.29\n",
      "  Downloading transformers-4.29.0-py3-none-any.whl (7.1 MB)\n",
      "\u001b[2K     \u001b[90m━━━━━━━━━━━━━━━━━━━━━━━━━━━━━━━━━━━━━━━━\u001b[0m \u001b[32m7.1/7.1 MB\u001b[0m \u001b[31m59.5 MB/s\u001b[0m eta \u001b[36m0:00:00\u001b[0m\n",
      "\u001b[?25hRequirement already satisfied: torch in /usr/local/lib/python3.10/dist-packages (2.0.1+cu118)\n",
      "Requirement already satisfied: filelock in /usr/local/lib/python3.10/dist-packages (from transformers==4.29) (3.12.0)\n",
      "Collecting huggingface-hub<1.0,>=0.11.0 (from transformers==4.29)\n",
      "  Downloading huggingface_hub-0.15.1-py3-none-any.whl (236 kB)\n",
      "\u001b[2K     \u001b[90m━━━━━━━━━━━━━━━━━━━━━━━━━━━━━━━━━━━━━━\u001b[0m \u001b[32m236.8/236.8 kB\u001b[0m \u001b[31m26.5 MB/s\u001b[0m eta \u001b[36m0:00:00\u001b[0m\n",
      "\u001b[?25hRequirement already satisfied: numpy>=1.17 in /usr/local/lib/python3.10/dist-packages (from transformers==4.29) (1.22.4)\n",
      "Requirement already satisfied: packaging>=20.0 in /usr/local/lib/python3.10/dist-packages (from transformers==4.29) (23.1)\n",
      "Requirement already satisfied: pyyaml>=5.1 in /usr/local/lib/python3.10/dist-packages (from transformers==4.29) (6.0)\n",
      "Requirement already satisfied: regex!=2019.12.17 in /usr/local/lib/python3.10/dist-packages (from transformers==4.29) (2022.10.31)\n",
      "Requirement already satisfied: requests in /usr/local/lib/python3.10/dist-packages (from transformers==4.29) (2.27.1)\n",
      "Collecting tokenizers!=0.11.3,<0.14,>=0.11.1 (from transformers==4.29)\n",
      "  Downloading tokenizers-0.13.3-cp310-cp310-manylinux_2_17_x86_64.manylinux2014_x86_64.whl (7.8 MB)\n",
      "\u001b[2K     \u001b[90m━━━━━━━━━━━━━━━━━━━━━━━━━━━━━━━━━━━━━━━━\u001b[0m \u001b[32m7.8/7.8 MB\u001b[0m \u001b[31m101.1 MB/s\u001b[0m eta \u001b[36m0:00:00\u001b[0m\n",
      "\u001b[?25hRequirement already satisfied: tqdm>=4.27 in /usr/local/lib/python3.10/dist-packages (from transformers==4.29) (4.65.0)\n",
      "Requirement already satisfied: typing-extensions in /usr/local/lib/python3.10/dist-packages (from torch) (4.5.0)\n",
      "Requirement already satisfied: sympy in /usr/local/lib/python3.10/dist-packages (from torch) (1.11.1)\n",
      "Requirement already satisfied: networkx in /usr/local/lib/python3.10/dist-packages (from torch) (3.1)\n",
      "Requirement already satisfied: jinja2 in /usr/local/lib/python3.10/dist-packages (from torch) (3.1.2)\n",
      "Requirement already satisfied: triton==2.0.0 in /usr/local/lib/python3.10/dist-packages (from torch) (2.0.0)\n",
      "Requirement already satisfied: cmake in /usr/local/lib/python3.10/dist-packages (from triton==2.0.0->torch) (3.25.2)\n",
      "Requirement already satisfied: lit in /usr/local/lib/python3.10/dist-packages (from triton==2.0.0->torch) (16.0.5)\n",
      "Requirement already satisfied: fsspec in /usr/local/lib/python3.10/dist-packages (from huggingface-hub<1.0,>=0.11.0->transformers==4.29) (2023.4.0)\n",
      "Requirement already satisfied: MarkupSafe>=2.0 in /usr/local/lib/python3.10/dist-packages (from jinja2->torch) (2.1.2)\n",
      "Requirement already satisfied: urllib3<1.27,>=1.21.1 in /usr/local/lib/python3.10/dist-packages (from requests->transformers==4.29) (1.26.15)\n",
      "Requirement already satisfied: certifi>=2017.4.17 in /usr/local/lib/python3.10/dist-packages (from requests->transformers==4.29) (2022.12.7)\n",
      "Requirement already satisfied: charset-normalizer~=2.0.0 in /usr/local/lib/python3.10/dist-packages (from requests->transformers==4.29) (2.0.12)\n",
      "Requirement already satisfied: idna<4,>=2.5 in /usr/local/lib/python3.10/dist-packages (from requests->transformers==4.29) (3.4)\n",
      "Requirement already satisfied: mpmath>=0.19 in /usr/local/lib/python3.10/dist-packages (from sympy->torch) (1.3.0)\n",
      "Installing collected packages: tokenizers, huggingface-hub, transformers\n",
      "Successfully installed huggingface-hub-0.15.1 tokenizers-0.13.3 transformers-4.29.0\n"
     ]
    }
   ],
   "source": [
    "!pip install transformers==4.29 torch"
   ]
  },
  {
   "cell_type": "code",
   "execution_count": null,
   "id": "AIDZT57p7n42",
   "metadata": {
    "colab": {
     "base_uri": "https://localhost:8080/"
    },
    "executionInfo": {
     "elapsed": 12268,
     "status": "ok",
     "timestamp": 1686937390272,
     "user": {
      "displayName": "지능정보 SW아카데미6조",
      "userId": "12490553424211353381"
     },
     "user_tz": -540
    },
    "id": "AIDZT57p7n42",
    "outputId": "8eb9bf50-5455-4fc1-f754-2dfe52beedbc"
   },
   "outputs": [
    {
     "name": "stdout",
     "output_type": "stream",
     "text": [
      "Looking in indexes: https://pypi.org/simple, https://us-python.pkg.dev/colab-wheels/public/simple/\n",
      "Collecting pycocoevalcap\n",
      "  Downloading pycocoevalcap-1.2-py3-none-any.whl (104.3 MB)\n",
      "\u001b[2K     \u001b[90m━━━━━━━━━━━━━━━━━━━━━━━━━━━━━━━━━━━━━━━\u001b[0m \u001b[32m104.3/104.3 MB\u001b[0m \u001b[31m8.7 MB/s\u001b[0m eta \u001b[36m0:00:00\u001b[0m\n",
      "\u001b[?25hRequirement already satisfied: pycocotools>=2.0.2 in /usr/local/lib/python3.10/dist-packages (from pycocoevalcap) (2.0.6)\n",
      "Requirement already satisfied: matplotlib>=2.1.0 in /usr/local/lib/python3.10/dist-packages (from pycocotools>=2.0.2->pycocoevalcap) (3.7.1)\n",
      "Requirement already satisfied: numpy in /usr/local/lib/python3.10/dist-packages (from pycocotools>=2.0.2->pycocoevalcap) (1.22.4)\n",
      "Requirement already satisfied: contourpy>=1.0.1 in /usr/local/lib/python3.10/dist-packages (from matplotlib>=2.1.0->pycocotools>=2.0.2->pycocoevalcap) (1.0.7)\n",
      "Requirement already satisfied: cycler>=0.10 in /usr/local/lib/python3.10/dist-packages (from matplotlib>=2.1.0->pycocotools>=2.0.2->pycocoevalcap) (0.11.0)\n",
      "Requirement already satisfied: fonttools>=4.22.0 in /usr/local/lib/python3.10/dist-packages (from matplotlib>=2.1.0->pycocotools>=2.0.2->pycocoevalcap) (4.39.3)\n",
      "Requirement already satisfied: kiwisolver>=1.0.1 in /usr/local/lib/python3.10/dist-packages (from matplotlib>=2.1.0->pycocotools>=2.0.2->pycocoevalcap) (1.4.4)\n",
      "Requirement already satisfied: packaging>=20.0 in /usr/local/lib/python3.10/dist-packages (from matplotlib>=2.1.0->pycocotools>=2.0.2->pycocoevalcap) (23.1)\n",
      "Requirement already satisfied: pillow>=6.2.0 in /usr/local/lib/python3.10/dist-packages (from matplotlib>=2.1.0->pycocotools>=2.0.2->pycocoevalcap) (8.4.0)\n",
      "Requirement already satisfied: pyparsing>=2.3.1 in /usr/local/lib/python3.10/dist-packages (from matplotlib>=2.1.0->pycocotools>=2.0.2->pycocoevalcap) (3.0.9)\n",
      "Requirement already satisfied: python-dateutil>=2.7 in /usr/local/lib/python3.10/dist-packages (from matplotlib>=2.1.0->pycocotools>=2.0.2->pycocoevalcap) (2.8.2)\n",
      "Requirement already satisfied: six>=1.5 in /usr/local/lib/python3.10/dist-packages (from python-dateutil>=2.7->matplotlib>=2.1.0->pycocotools>=2.0.2->pycocoevalcap) (1.16.0)\n",
      "Installing collected packages: pycocoevalcap\n",
      "Successfully installed pycocoevalcap-1.2\n"
     ]
    }
   ],
   "source": [
    "!pip install pycocoevalcap"
   ]
  },
  {
   "cell_type": "code",
   "execution_count": null,
   "id": "60e91a46",
   "metadata": {
    "id": "60e91a46"
   },
   "outputs": [],
   "source": [
    "from torch.utils.data import DataLoader\n",
    "from torch.utils.data import Dataset\n",
    "import json\n",
    "import os\n",
    "from PIL import Image\n",
    "import torch\n",
    "import time"
   ]
  },
  {
   "cell_type": "code",
   "execution_count": null,
   "id": "8c123f4c",
   "metadata": {
    "id": "8c123f4c"
   },
   "outputs": [],
   "source": [
    "class ImageCaptioningDataset(Dataset):\n",
    "    def __init__(self, dataset, processor):\n",
    "        self.dataset = dataset\n",
    "        self.processor = processor\n",
    "\n",
    "    def __len__(self):\n",
    "        return len(self.dataset)\n",
    "\n",
    "    def __getitem__(self, idx):\n",
    "        item = self.dataset[idx]\n",
    "        encoding = self.processor(images=item[\"image\"], text=item[\"text\"], padding=\"max_length\", return_tensors=\"pt\")\n",
    "\n",
    "        encoding = {k:v.squeeze() for k,v in encoding.items()}\n",
    "        return encoding"
   ]
  },
  {
   "cell_type": "code",
   "execution_count": null,
   "id": "rQGLWL7NjZp9",
   "metadata": {
    "colab": {
     "base_uri": "https://localhost:8080/"
    },
    "executionInfo": {
     "elapsed": 155268,
     "status": "ok",
     "timestamp": 1686937550249,
     "user": {
      "displayName": "지능정보 SW아카데미6조",
      "userId": "12490553424211353381"
     },
     "user_tz": -540
    },
    "id": "rQGLWL7NjZp9",
    "outputId": "77c2e11e-2055-451b-c9f9-d5d2b0bb52c8"
   },
   "outputs": [
    {
     "name": "stdout",
     "output_type": "stream",
     "text": [
      "Mounted at /content/drive\n"
     ]
    }
   ],
   "source": [
    "from google.colab import drive\n",
    "drive.mount('/content/drive')"
   ]
  },
  {
   "cell_type": "markdown",
   "id": "7naDBBns_CKx",
   "metadata": {
    "id": "7naDBBns_CKx"
   },
   "source": [
    "### preprocess 준비"
   ]
  },
  {
   "cell_type": "code",
   "execution_count": null,
   "id": "1f8215d0",
   "metadata": {
    "id": "1f8215d0"
   },
   "outputs": [],
   "source": [
    "from transformers import  AutoProcessor\n",
    "from transformers import AutoModelForCausalLM, Swin2SRImageProcessor\n",
    "import numpy as np\n",
    "processor = AutoProcessor.from_pretrained('/content/drive/MyDrive/재원/model/caption/git/preprocessor')\n",
    "pro_sr = Swin2SRImageProcessor.from_pretrained('/content/drive/MyDrive/재원/eval/sr/preprocessor')\n",
    "model_sr = torch.load('/content/drive/MyDrive/재원/eval/sr/swinsr.pt')"
   ]
  },
  {
   "cell_type": "markdown",
   "id": "W-rLL07zOH1r",
   "metadata": {
    "id": "W-rLL07zOH1r"
   },
   "source": [
    "### 옵션"
   ]
  },
  {
   "cell_type": "code",
   "execution_count": null,
   "id": "UOq2vV3WOLFE",
   "metadata": {
    "id": "UOq2vV3WOLFE"
   },
   "outputs": [],
   "source": [
    "option = {\n",
    "    'start': 0,\n",
    "    'num': 5000,\n",
    "    'batch_size':8,\n",
    "}"
   ]
  },
  {
   "cell_type": "markdown",
   "id": "ElphuVHVFJ-t",
   "metadata": {
    "id": "ElphuVHVFJ-t"
   },
   "source": [
    "### 데이터셋 준비 path는 알아서 잘 조정하기 - 1000개당 3분 정도 걸림"
   ]
  },
  {
   "cell_type": "code",
   "execution_count": null,
   "id": "Sa-sdhoEnOYY",
   "metadata": {
    "id": "Sa-sdhoEnOYY"
   },
   "outputs": [],
   "source": [
    "#zip 풀기\n",
    "!unzip -qq '/content/drive/MyDrive/data/5000.zip' -d '/content'"
   ]
  },
  {
   "cell_type": "code",
   "execution_count": null,
   "id": "7849d64a",
   "metadata": {
    "id": "7849d64a"
   },
   "outputs": [],
   "source": [
    "labelpath=\"/content/caption.json\"\n",
    "with open(labelpath, 'r',encoding = 'utf-8' or 'cp949' ) as f: # json 파일 접근\n",
    "    captions = json.load(f)\n",
    "import random\n",
    "random.seed(777)\n",
    "random.shuffle(captions)"
   ]
  },
  {
   "cell_type": "code",
   "execution_count": null,
   "id": "EkJtq1P0ddKI",
   "metadata": {
    "id": "EkJtq1P0ddKI"
   },
   "outputs": [],
   "source": [
    "def image_list_with_sr(captions,dir,n,m): # 이미지 데이터 가져오기\n",
    "    imagelist=[]\n",
    "    for i in range(n,n+m):\n",
    "        path = dir+'/'+captions[i]['image']\n",
    "        image = Image.open(path)\n",
    "        image = super_reso(image) if image.size[0]<50 or image.size[1]<100 else image\n",
    "        imagelist.append(image)\n",
    "    return imagelist"
   ]
  },
  {
   "cell_type": "code",
   "execution_count": null,
   "id": "_ZjlYpBwfTyS",
   "metadata": {
    "id": "_ZjlYpBwfTyS"
   },
   "outputs": [],
   "source": [
    "device = \"cuda\" if torch.cuda.is_available() else \"cpu\"\n",
    "model_sr.to(device)\n",
    "def super_reso(image):\n",
    "    inputs = pro_sr(image, return_tensors=\"pt\").to(device)\n",
    "\n",
    "    # forward pass\n",
    "    with torch.no_grad():\n",
    "        outputs = model_sr(**inputs)\n",
    "\n",
    "    output = outputs.reconstruction.data.squeeze().cpu().float().clamp_(0, 1).numpy()\n",
    "    output = np.moveaxis(output, source=0, destination=-1)\n",
    "    output = (output * 255.0).round().astype(np.uint8)\n",
    "    return Image.fromarray(output)"
   ]
  },
  {
   "cell_type": "code",
   "execution_count": null,
   "id": "aff719a6",
   "metadata": {
    "colab": {
     "base_uri": "https://localhost:8080/"
    },
    "executionInfo": {
     "elapsed": 68417,
     "status": "ok",
     "timestamp": 1686937640127,
     "user": {
      "displayName": "지능정보 SW아카데미6조",
      "userId": "12490553424211353381"
     },
     "user_tz": -540
    },
    "id": "aff719a6",
    "outputId": "5ecd84e2-5e97-412e-80da-8b7fa027858b",
    "scrolled": true
   },
   "outputs": [
    {
     "data": {
      "text/plain": [
       "Swin2SRForImageSuperResolution(\n",
       "  (swin2sr): Swin2SRModel(\n",
       "    (first_convolution): Conv2d(3, 60, kernel_size=(3, 3), stride=(1, 1), padding=(1, 1))\n",
       "    (embeddings): Swin2SREmbeddings(\n",
       "      (patch_embeddings): Swin2SRPatchEmbeddings(\n",
       "        (projection): Conv2d(60, 60, kernel_size=(1, 1), stride=(1, 1))\n",
       "        (layernorm): LayerNorm((60,), eps=1e-05, elementwise_affine=True)\n",
       "      )\n",
       "      (dropout): Dropout(p=0.0, inplace=False)\n",
       "    )\n",
       "    (encoder): Swin2SREncoder(\n",
       "      (stages): ModuleList(\n",
       "        (0-3): 4 x Swin2SRStage(\n",
       "          (layers): ModuleList(\n",
       "            (0-5): 6 x Swin2SRLayer(\n",
       "              (attention): Swin2SRAttention(\n",
       "                (self): Swin2SRSelfAttention(\n",
       "                  (continuous_position_bias_mlp): Sequential(\n",
       "                    (0): Linear(in_features=2, out_features=512, bias=True)\n",
       "                    (1): ReLU(inplace=True)\n",
       "                    (2): Linear(in_features=512, out_features=6, bias=False)\n",
       "                  )\n",
       "                  (query): Linear(in_features=60, out_features=60, bias=True)\n",
       "                  (key): Linear(in_features=60, out_features=60, bias=False)\n",
       "                  (value): Linear(in_features=60, out_features=60, bias=True)\n",
       "                  (dropout): Dropout(p=0.0, inplace=False)\n",
       "                )\n",
       "                (output): Swin2SRSelfOutput(\n",
       "                  (dense): Linear(in_features=60, out_features=60, bias=True)\n",
       "                  (dropout): Dropout(p=0.0, inplace=False)\n",
       "                )\n",
       "              )\n",
       "              (layernorm_before): LayerNorm((60,), eps=1e-05, elementwise_affine=True)\n",
       "              (drop_path): Swin2SRDropPath(p=0.1)\n",
       "              (intermediate): Swin2SRIntermediate(\n",
       "                (dense): Linear(in_features=60, out_features=120, bias=True)\n",
       "                (intermediate_act_fn): GELUActivation()\n",
       "              )\n",
       "              (output): Swin2SROutput(\n",
       "                (dense): Linear(in_features=120, out_features=60, bias=True)\n",
       "                (dropout): Dropout(p=0.0, inplace=False)\n",
       "              )\n",
       "              (layernorm_after): LayerNorm((60,), eps=1e-05, elementwise_affine=True)\n",
       "            )\n",
       "          )\n",
       "          (conv): Conv2d(60, 60, kernel_size=(3, 3), stride=(1, 1), padding=(1, 1))\n",
       "          (patch_embed): Swin2SRPatchEmbeddings(\n",
       "            (projection): Conv2d(60, 60, kernel_size=(1, 1), stride=(1, 1))\n",
       "          )\n",
       "          (patch_unembed): Swin2SRPatchUnEmbeddings()\n",
       "        )\n",
       "      )\n",
       "    )\n",
       "    (layernorm): LayerNorm((60,), eps=1e-05, elementwise_affine=True)\n",
       "    (patch_unembed): Swin2SRPatchUnEmbeddings()\n",
       "    (conv_after_body): Conv2d(60, 60, kernel_size=(3, 3), stride=(1, 1), padding=(1, 1))\n",
       "  )\n",
       "  (upsample): UpsampleOneStep(\n",
       "    (conv): Conv2d(60, 12, kernel_size=(3, 3), stride=(1, 1), padding=(1, 1))\n",
       "    (pixel_shuffle): PixelShuffle(upscale_factor=2)\n",
       "  )\n",
       ")"
      ]
     },
     "execution_count": 12,
     "metadata": {},
     "output_type": "execute_result"
    }
   ],
   "source": [
    "ImageList = image_list_with_sr(captions,'/content/image',option['start'],option['num'])\n",
    "model_sr.to('cpu') # 5000장에서 약 2분 소요"
   ]
  },
  {
   "cell_type": "code",
   "execution_count": null,
   "id": "kayep0woiVTi",
   "metadata": {
    "id": "kayep0woiVTi"
   },
   "outputs": [],
   "source": [
    "data = [{'text':captions[i]['label'],'image':ImageList[i]} for i in range(option['start'],option['start']+option['num'])]"
   ]
  },
  {
   "cell_type": "code",
   "execution_count": null,
   "id": "d9c9181e",
   "metadata": {
    "id": "d9c9181e"
   },
   "outputs": [],
   "source": [
    "train_dataset = ImageCaptioningDataset(data[:int(0.8*option['num'])], processor)\n",
    "val_dataset = ImageCaptioningDataset(data[int(0.8*option['num']):], processor)\n",
    "train_dataloader = DataLoader(train_dataset,shuffle=False,batch_size = option['batch_size'])\n",
    "val_dataloader = DataLoader(val_dataset,shuffle=False,batch_size = option['batch_size'])"
   ]
  },
  {
   "cell_type": "code",
   "execution_count": null,
   "id": "Bl7v95nU3zoa",
   "metadata": {
    "id": "Bl7v95nU3zoa"
   },
   "outputs": [],
   "source": [
    "num_train = int(0.8*option['num']/option['batch_size'])\n",
    "num_test = int(0.2*option['num']/option['batch_size'])"
   ]
  },
  {
   "cell_type": "markdown",
   "id": "IQHFuRWy7xi5",
   "metadata": {
    "id": "IQHFuRWy7xi5"
   },
   "source": [
    "### 성능 평가 코드"
   ]
  },
  {
   "cell_type": "code",
   "execution_count": null,
   "id": "8F-m18po7z0p",
   "metadata": {
    "id": "8F-m18po7z0p"
   },
   "outputs": [],
   "source": [
    "def gen_captions(captions,filename):\n",
    "    gen = []\n",
    "    for i in range(len(captions)):\n",
    "        gen.append({'image_id': i+1, 'caption': captions[i]})\n",
    "\n",
    "    with open(filename,'w') as f:\n",
    "        json.dump(gen,f)"
   ]
  },
  {
   "cell_type": "code",
   "execution_count": null,
   "id": "qyptvgTRKKNL",
   "metadata": {
    "id": "qyptvgTRKKNL"
   },
   "outputs": [],
   "source": [
    "def make_gt(captions,filename):\n",
    "    annotations=[]\n",
    "    images = []\n",
    "    for i in range(len(captions)):\n",
    "        annotations.append({'image_id': i+1, 'caption': captions[i],'id': i+1})\n",
    "        images.append({'id':i+1})\n",
    "    gt_captions ={\n",
    "        'annotations': annotations,\n",
    "        'images': images\n",
    "    }\n",
    "    with open(filename,'w') as f:\n",
    "        json.dump(gt_captions,f)"
   ]
  },
  {
   "cell_type": "code",
   "execution_count": null,
   "id": "rkLi_sUj75xq",
   "metadata": {
    "id": "rkLi_sUj75xq"
   },
   "outputs": [],
   "source": [
    "import json\n",
    "import os\n",
    "from pycocotools.coco import COCO\n",
    "from pycocoevalcap.eval import COCOEvalCap\n",
    "\n",
    "def coco_caption_eval(annotation_file, results_file):\n",
    "\n",
    "    coco = COCO(annotation_file)\n",
    "    coco_result = coco.loadRes(results_file)\n",
    "\n",
    "    coco_eval = COCOEvalCap(coco, coco_result)\n",
    "    coco_eval.evaluate()\n",
    "\n",
    "    return coco_eval"
   ]
  },
  {
   "cell_type": "markdown",
   "id": "qZ_VjvDYD6DB",
   "metadata": {
    "id": "qZ_VjvDYD6DB"
   },
   "source": [
    "### layer Freezing"
   ]
  },
  {
   "cell_type": "code",
   "execution_count": null,
   "id": "N_jUKNXOHRpz",
   "metadata": {
    "colab": {
     "base_uri": "https://localhost:8080/",
     "height": 197,
     "referenced_widgets": [
      "b697eec80f7c44d6ad6f16833ec3442f",
      "7ec5a4807bce418b82278ffb6380fcb3",
      "0778405ea9f74e2d871f88c8e55499db",
      "9c524902acdc41778f0b4e7f5cf778f4",
      "0762bee29a014251a291903112986296",
      "1d46c5cf41f641969521eaa22178a8a8",
      "f5dcbf9d4a424c9e971f87d3b1783efb",
      "4c597c09531b4bfabd8925902b61792d",
      "401bc0074628424bb52dca05d538990e",
      "b19a37c69a8b4b2996463c43ea0e37bb",
      "8c9f2539a8b249d4a4e11264f459209a",
      "e4667eb3212847d1ba30a2b698a1948e",
      "b56b2d3b8adb4cef979f2a407e71e985",
      "7e5bad02338849059e1caa5bdadf47a3",
      "afdb277deae043c890e95d6455c07645",
      "a838c67d6c404df0adb7d8c01075de82",
      "452540c091ea4f9698a1de1c2caf4e26",
      "ecd84f357d544d94b6fa8e156f109220",
      "d69dc435644040699255aa2676a89326",
      "9b8613de308f42d9a614610fddfd39eb",
      "bf9985eb1c234ede93df2e8ca9d92f27",
      "91eecfce0d8f4fc295286f7cbd1cf4c4",
      "20d9dda74ac14b8ca6306747426f9895",
      "e26e7df947d147a5b8c865816f5c6de8",
      "d5fbb1780d2a43d79f6e0f4814737167",
      "a0643ccf37be4207b332af06f06a20ab",
      "ff9cb0f42e3c415d87f0a726ea9e5331",
      "cd3580afe8d6414396136801dd71e412",
      "67c7095d18e84e6da250b4f2a8a45cdd",
      "05680fbaa47045a8bc1e87715ef3f649",
      "d8bb5d13ce0f450ea1ce81a0035b3df0",
      "be8197f136a74b539fa4ff242a889f19",
      "bdac5bdbb4864abb8fa9198af20712f2"
     ]
    },
    "executionInfo": {
     "elapsed": 7670,
     "status": "ok",
     "timestamp": 1686937648315,
     "user": {
      "displayName": "지능정보 SW아카데미6조",
      "userId": "12490553424211353381"
     },
     "user_tz": -540
    },
    "id": "N_jUKNXOHRpz",
    "outputId": "ba603251-bc59-4166-c61b-060cc0fe916d"
   },
   "outputs": [
    {
     "data": {
      "application/vnd.jupyter.widget-view+json": {
       "model_id": "b697eec80f7c44d6ad6f16833ec3442f",
       "version_major": 2,
       "version_minor": 0
      },
      "text/plain": [
       "Downloading (…)lve/main/config.json:   0%|          | 0.00/2.82k [00:00<?, ?B/s]"
      ]
     },
     "metadata": {},
     "output_type": "display_data"
    },
    {
     "data": {
      "application/vnd.jupyter.widget-view+json": {
       "model_id": "e4667eb3212847d1ba30a2b698a1948e",
       "version_major": 2,
       "version_minor": 0
      },
      "text/plain": [
       "Downloading pytorch_model.bin:   0%|          | 0.00/707M [00:00<?, ?B/s]"
      ]
     },
     "metadata": {},
     "output_type": "display_data"
    },
    {
     "data": {
      "application/vnd.jupyter.widget-view+json": {
       "model_id": "20d9dda74ac14b8ca6306747426f9895",
       "version_major": 2,
       "version_minor": 0
      },
      "text/plain": [
       "Downloading (…)neration_config.json:   0%|          | 0.00/141 [00:00<?, ?B/s]"
      ]
     },
     "metadata": {},
     "output_type": "display_data"
    }
   ],
   "source": [
    "mode = \"microsoft/git-base\"\n",
    "model = AutoModelForCausalLM.from_pretrained(mode)"
   ]
  },
  {
   "cell_type": "code",
   "execution_count": null,
   "id": "xoGpw5p0EZBM",
   "metadata": {
    "id": "xoGpw5p0EZBM"
   },
   "outputs": [],
   "source": [
    "#frozen_layers = ['embeddings','image_encoder']\n",
    "frozen_layers=[]\n",
    "\n",
    "# 레이어 동결\n",
    "if len(frozen_layers)==0:\n",
    "    print(\"NO Freeze!!!!\")\n",
    "else:\n",
    "    for name, param in model.named_parameters():\n",
    "          if any(frozen_layer in name for frozen_layer in frozen_layers):\n",
    "                param.requires_grad = False\n",
    "                print(f'{name} is freeze!!!')"
   ]
  },
  {
   "cell_type": "markdown",
   "id": "6a82307d",
   "metadata": {
    "id": "6a82307d"
   },
   "source": [
    "### finetuning 진행"
   ]
  },
  {
   "cell_type": "code",
   "execution_count": null,
   "id": "1QGMr7pVE9NQ",
   "metadata": {
    "id": "1QGMr7pVE9NQ"
   },
   "outputs": [],
   "source": [
    "import torch\n",
    "val_cpath = '/content/drive/MyDrive/재원/captions/sr/val'\n",
    "val_rpath = '/content/drive/MyDrive/재원/captions/sr/val_real.json'\n",
    "train_hist=[]\n",
    "val_hist = []\n",
    "train_iter_hist=[]\n",
    "val_iter_hist=[]\n",
    "val_eval = []"
   ]
  },
  {
   "cell_type": "code",
   "execution_count": null,
   "id": "3spPGURzFTxx",
   "metadata": {
    "id": "3spPGURzFTxx"
   },
   "outputs": [],
   "source": [
    "make_gt([item['text'] for item in data][int(0.8*option['num']):],val_rpath)#val의 진짜 caption"
   ]
  },
  {
   "cell_type": "code",
   "execution_count": null,
   "id": "7d4f3084",
   "metadata": {
    "id": "7d4f3084"
   },
   "outputs": [],
   "source": [
    "import torch\n",
    "import torch.optim as optim\n",
    "from torch.optim.lr_scheduler import CosineAnnealingLR\n",
    "lr = 1e-5\n",
    "E = 30\n",
    "\n",
    "optimizer = optim.AdamW(model.parameters(), lr=lr, weight_decay=0.05)\n",
    "scheduler = CosineAnnealingLR(optimizer, T_max=E)\n",
    "\n",
    "device = \"cuda\" if torch.cuda.is_available() else \"cpu\"\n",
    "model.to(device)\n",
    "\n",
    "torch.manual_seed(777)\n",
    "for epoch in range(E):\n",
    "    model.train()\n",
    "    Loss = 0\n",
    "\n",
    "    train_caption = []\n",
    "    for idx, batch in enumerate(train_dataloader):\n",
    "        model.train()\n",
    "        input_ids = batch.pop(\"input_ids\").to(device)\n",
    "        pixel_values = batch.pop(\"pixel_values\").to(device)\n",
    "        outputs = model(input_ids=input_ids,pixel_values=pixel_values, labels=input_ids)\n",
    "        loss = outputs.loss\n",
    "        optimizer.zero_grad()\n",
    "        loss.backward()\n",
    "        optimizer.step()\n",
    "\n",
    "        #성능을 보기 위한 작업\n",
    "        Loss+=loss.tolist()\n",
    "        train_iter_hist.append(loss.tolist())\n",
    "\n",
    "\n",
    "    train_hist.append(Loss/len(train_dataloader))\n",
    "\n",
    "\n",
    "    #validation진행\n",
    "\n",
    "    val = 0\n",
    "    val_caption =[]\n",
    "    with torch.no_grad():\n",
    "        model.eval()\n",
    "        for idx, batch in enumerate(val_dataloader):\n",
    "            input_ids = batch.pop(\"input_ids\").to(device)\n",
    "            pixel_values = batch.pop(\"pixel_values\").to(device)\n",
    "            outputs = model(input_ids=input_ids,pixel_values=pixel_values, labels=input_ids)\n",
    "\n",
    "            #성능을 보기위한 작업\n",
    "            val_caption+=processor.batch_decode(model.generate(pixel_values=pixel_values,max_length = 100),skip_special_tokens=True)\n",
    "            val+=outputs.loss.tolist()\n",
    "            val_iter_hist.append(loss.tolist())\n",
    "\n",
    "    val_hist.append(val/len(val_dataloader))\n",
    "\n",
    "    #checkpoint\n",
    "    if val_hist[-1]==min(val_hist):\n",
    "        torch.save(model,'/content/drive/MyDrive/재원/model/caption/git/git_25000_all.pt')\n",
    "\n",
    "    #Epoch 출력\n",
    "    print(\"Epoch {}회차 - val_Loss:{}, \".format(epoch+1,val*option['batch_size']/(0.2*option['num'])))\n",
    "\n",
    "    #epoch의 caption들 저장 및 성능 출력을 위한 코드들\n",
    "    gen_captions(val_caption,val_cpath+'/'+str(epoch+1)+'.json')\n",
    "    val_eval.append(coco_caption_eval(val_rpath,val_cpath+'/'+str(epoch+1)+'.json').eval.items())"
   ]
  },
  {
   "cell_type": "code",
   "execution_count": null,
   "id": "Yo1NfC2fuogF",
   "metadata": {
    "id": "Yo1NfC2fuogF"
   },
   "outputs": [],
   "source": [
    "import json\n",
    "total_list =[train_hist,[train_iter_hist,val_iter_hist],val_hist,[dict(item.mapping) for item in val_eval]]\n",
    "with open('/content/drive/MyDrive/재원/eval/loss/git_25000_all_plot.json','w') as f:\n",
    "    json.dump(total_list,f)"
   ]
  }
 ],
 "metadata": {
  "accelerator": "GPU",
  "colab": {
   "collapsed_sections": [
    "HKnw15x_0ARn",
    "7naDBBns_CKx",
    "W-rLL07zOH1r",
    "ElphuVHVFJ-t",
    "IQHFuRWy7xi5"
   ],
   "gpuType": "V100",
   "provenance": []
  },
  "kernelspec": {
   "display_name": "Python 3 (ipykernel)",
   "language": "python",
   "name": "python3"
  },
  "language_info": {
   "codemirror_mode": {
    "name": "ipython",
    "version": 3
   },
   "file_extension": ".py",
   "mimetype": "text/x-python",
   "name": "python",
   "nbconvert_exporter": "python",
   "pygments_lexer": "ipython3",
   "version": "3.10.9"
  },
  "widgets": {
   "application/vnd.jupyter.widget-state+json": {
    "05680fbaa47045a8bc1e87715ef3f649": {
     "model_module": "@jupyter-widgets/base",
     "model_module_version": "1.2.0",
     "model_name": "LayoutModel",
     "state": {
      "_model_module": "@jupyter-widgets/base",
      "_model_module_version": "1.2.0",
      "_model_name": "LayoutModel",
      "_view_count": null,
      "_view_module": "@jupyter-widgets/base",
      "_view_module_version": "1.2.0",
      "_view_name": "LayoutView",
      "align_content": null,
      "align_items": null,
      "align_self": null,
      "border": null,
      "bottom": null,
      "display": null,
      "flex": null,
      "flex_flow": null,
      "grid_area": null,
      "grid_auto_columns": null,
      "grid_auto_flow": null,
      "grid_auto_rows": null,
      "grid_column": null,
      "grid_gap": null,
      "grid_row": null,
      "grid_template_areas": null,
      "grid_template_columns": null,
      "grid_template_rows": null,
      "height": null,
      "justify_content": null,
      "justify_items": null,
      "left": null,
      "margin": null,
      "max_height": null,
      "max_width": null,
      "min_height": null,
      "min_width": null,
      "object_fit": null,
      "object_position": null,
      "order": null,
      "overflow": null,
      "overflow_x": null,
      "overflow_y": null,
      "padding": null,
      "right": null,
      "top": null,
      "visibility": null,
      "width": null
     }
    },
    "0762bee29a014251a291903112986296": {
     "model_module": "@jupyter-widgets/base",
     "model_module_version": "1.2.0",
     "model_name": "LayoutModel",
     "state": {
      "_model_module": "@jupyter-widgets/base",
      "_model_module_version": "1.2.0",
      "_model_name": "LayoutModel",
      "_view_count": null,
      "_view_module": "@jupyter-widgets/base",
      "_view_module_version": "1.2.0",
      "_view_name": "LayoutView",
      "align_content": null,
      "align_items": null,
      "align_self": null,
      "border": null,
      "bottom": null,
      "display": null,
      "flex": null,
      "flex_flow": null,
      "grid_area": null,
      "grid_auto_columns": null,
      "grid_auto_flow": null,
      "grid_auto_rows": null,
      "grid_column": null,
      "grid_gap": null,
      "grid_row": null,
      "grid_template_areas": null,
      "grid_template_columns": null,
      "grid_template_rows": null,
      "height": null,
      "justify_content": null,
      "justify_items": null,
      "left": null,
      "margin": null,
      "max_height": null,
      "max_width": null,
      "min_height": null,
      "min_width": null,
      "object_fit": null,
      "object_position": null,
      "order": null,
      "overflow": null,
      "overflow_x": null,
      "overflow_y": null,
      "padding": null,
      "right": null,
      "top": null,
      "visibility": null,
      "width": null
     }
    },
    "0778405ea9f74e2d871f88c8e55499db": {
     "model_module": "@jupyter-widgets/controls",
     "model_module_version": "1.5.0",
     "model_name": "FloatProgressModel",
     "state": {
      "_dom_classes": [],
      "_model_module": "@jupyter-widgets/controls",
      "_model_module_version": "1.5.0",
      "_model_name": "FloatProgressModel",
      "_view_count": null,
      "_view_module": "@jupyter-widgets/controls",
      "_view_module_version": "1.5.0",
      "_view_name": "ProgressView",
      "bar_style": "success",
      "description": "",
      "description_tooltip": null,
      "layout": "IPY_MODEL_4c597c09531b4bfabd8925902b61792d",
      "max": 2822,
      "min": 0,
      "orientation": "horizontal",
      "style": "IPY_MODEL_401bc0074628424bb52dca05d538990e",
      "value": 2822
     }
    },
    "1d46c5cf41f641969521eaa22178a8a8": {
     "model_module": "@jupyter-widgets/base",
     "model_module_version": "1.2.0",
     "model_name": "LayoutModel",
     "state": {
      "_model_module": "@jupyter-widgets/base",
      "_model_module_version": "1.2.0",
      "_model_name": "LayoutModel",
      "_view_count": null,
      "_view_module": "@jupyter-widgets/base",
      "_view_module_version": "1.2.0",
      "_view_name": "LayoutView",
      "align_content": null,
      "align_items": null,
      "align_self": null,
      "border": null,
      "bottom": null,
      "display": null,
      "flex": null,
      "flex_flow": null,
      "grid_area": null,
      "grid_auto_columns": null,
      "grid_auto_flow": null,
      "grid_auto_rows": null,
      "grid_column": null,
      "grid_gap": null,
      "grid_row": null,
      "grid_template_areas": null,
      "grid_template_columns": null,
      "grid_template_rows": null,
      "height": null,
      "justify_content": null,
      "justify_items": null,
      "left": null,
      "margin": null,
      "max_height": null,
      "max_width": null,
      "min_height": null,
      "min_width": null,
      "object_fit": null,
      "object_position": null,
      "order": null,
      "overflow": null,
      "overflow_x": null,
      "overflow_y": null,
      "padding": null,
      "right": null,
      "top": null,
      "visibility": null,
      "width": null
     }
    },
    "20d9dda74ac14b8ca6306747426f9895": {
     "model_module": "@jupyter-widgets/controls",
     "model_module_version": "1.5.0",
     "model_name": "HBoxModel",
     "state": {
      "_dom_classes": [],
      "_model_module": "@jupyter-widgets/controls",
      "_model_module_version": "1.5.0",
      "_model_name": "HBoxModel",
      "_view_count": null,
      "_view_module": "@jupyter-widgets/controls",
      "_view_module_version": "1.5.0",
      "_view_name": "HBoxView",
      "box_style": "",
      "children": [
       "IPY_MODEL_e26e7df947d147a5b8c865816f5c6de8",
       "IPY_MODEL_d5fbb1780d2a43d79f6e0f4814737167",
       "IPY_MODEL_a0643ccf37be4207b332af06f06a20ab"
      ],
      "layout": "IPY_MODEL_ff9cb0f42e3c415d87f0a726ea9e5331"
     }
    },
    "401bc0074628424bb52dca05d538990e": {
     "model_module": "@jupyter-widgets/controls",
     "model_module_version": "1.5.0",
     "model_name": "ProgressStyleModel",
     "state": {
      "_model_module": "@jupyter-widgets/controls",
      "_model_module_version": "1.5.0",
      "_model_name": "ProgressStyleModel",
      "_view_count": null,
      "_view_module": "@jupyter-widgets/base",
      "_view_module_version": "1.2.0",
      "_view_name": "StyleView",
      "bar_color": null,
      "description_width": ""
     }
    },
    "452540c091ea4f9698a1de1c2caf4e26": {
     "model_module": "@jupyter-widgets/base",
     "model_module_version": "1.2.0",
     "model_name": "LayoutModel",
     "state": {
      "_model_module": "@jupyter-widgets/base",
      "_model_module_version": "1.2.0",
      "_model_name": "LayoutModel",
      "_view_count": null,
      "_view_module": "@jupyter-widgets/base",
      "_view_module_version": "1.2.0",
      "_view_name": "LayoutView",
      "align_content": null,
      "align_items": null,
      "align_self": null,
      "border": null,
      "bottom": null,
      "display": null,
      "flex": null,
      "flex_flow": null,
      "grid_area": null,
      "grid_auto_columns": null,
      "grid_auto_flow": null,
      "grid_auto_rows": null,
      "grid_column": null,
      "grid_gap": null,
      "grid_row": null,
      "grid_template_areas": null,
      "grid_template_columns": null,
      "grid_template_rows": null,
      "height": null,
      "justify_content": null,
      "justify_items": null,
      "left": null,
      "margin": null,
      "max_height": null,
      "max_width": null,
      "min_height": null,
      "min_width": null,
      "object_fit": null,
      "object_position": null,
      "order": null,
      "overflow": null,
      "overflow_x": null,
      "overflow_y": null,
      "padding": null,
      "right": null,
      "top": null,
      "visibility": null,
      "width": null
     }
    },
    "4c597c09531b4bfabd8925902b61792d": {
     "model_module": "@jupyter-widgets/base",
     "model_module_version": "1.2.0",
     "model_name": "LayoutModel",
     "state": {
      "_model_module": "@jupyter-widgets/base",
      "_model_module_version": "1.2.0",
      "_model_name": "LayoutModel",
      "_view_count": null,
      "_view_module": "@jupyter-widgets/base",
      "_view_module_version": "1.2.0",
      "_view_name": "LayoutView",
      "align_content": null,
      "align_items": null,
      "align_self": null,
      "border": null,
      "bottom": null,
      "display": null,
      "flex": null,
      "flex_flow": null,
      "grid_area": null,
      "grid_auto_columns": null,
      "grid_auto_flow": null,
      "grid_auto_rows": null,
      "grid_column": null,
      "grid_gap": null,
      "grid_row": null,
      "grid_template_areas": null,
      "grid_template_columns": null,
      "grid_template_rows": null,
      "height": null,
      "justify_content": null,
      "justify_items": null,
      "left": null,
      "margin": null,
      "max_height": null,
      "max_width": null,
      "min_height": null,
      "min_width": null,
      "object_fit": null,
      "object_position": null,
      "order": null,
      "overflow": null,
      "overflow_x": null,
      "overflow_y": null,
      "padding": null,
      "right": null,
      "top": null,
      "visibility": null,
      "width": null
     }
    },
    "67c7095d18e84e6da250b4f2a8a45cdd": {
     "model_module": "@jupyter-widgets/controls",
     "model_module_version": "1.5.0",
     "model_name": "DescriptionStyleModel",
     "state": {
      "_model_module": "@jupyter-widgets/controls",
      "_model_module_version": "1.5.0",
      "_model_name": "DescriptionStyleModel",
      "_view_count": null,
      "_view_module": "@jupyter-widgets/base",
      "_view_module_version": "1.2.0",
      "_view_name": "StyleView",
      "description_width": ""
     }
    },
    "7e5bad02338849059e1caa5bdadf47a3": {
     "model_module": "@jupyter-widgets/controls",
     "model_module_version": "1.5.0",
     "model_name": "FloatProgressModel",
     "state": {
      "_dom_classes": [],
      "_model_module": "@jupyter-widgets/controls",
      "_model_module_version": "1.5.0",
      "_model_name": "FloatProgressModel",
      "_view_count": null,
      "_view_module": "@jupyter-widgets/controls",
      "_view_module_version": "1.5.0",
      "_view_name": "ProgressView",
      "bar_style": "success",
      "description": "",
      "description_tooltip": null,
      "layout": "IPY_MODEL_d69dc435644040699255aa2676a89326",
      "max": 706587995,
      "min": 0,
      "orientation": "horizontal",
      "style": "IPY_MODEL_9b8613de308f42d9a614610fddfd39eb",
      "value": 706587995
     }
    },
    "7ec5a4807bce418b82278ffb6380fcb3": {
     "model_module": "@jupyter-widgets/controls",
     "model_module_version": "1.5.0",
     "model_name": "HTMLModel",
     "state": {
      "_dom_classes": [],
      "_model_module": "@jupyter-widgets/controls",
      "_model_module_version": "1.5.0",
      "_model_name": "HTMLModel",
      "_view_count": null,
      "_view_module": "@jupyter-widgets/controls",
      "_view_module_version": "1.5.0",
      "_view_name": "HTMLView",
      "description": "",
      "description_tooltip": null,
      "layout": "IPY_MODEL_1d46c5cf41f641969521eaa22178a8a8",
      "placeholder": "​",
      "style": "IPY_MODEL_f5dcbf9d4a424c9e971f87d3b1783efb",
      "value": "Downloading (…)lve/main/config.json: 100%"
     }
    },
    "8c9f2539a8b249d4a4e11264f459209a": {
     "model_module": "@jupyter-widgets/controls",
     "model_module_version": "1.5.0",
     "model_name": "DescriptionStyleModel",
     "state": {
      "_model_module": "@jupyter-widgets/controls",
      "_model_module_version": "1.5.0",
      "_model_name": "DescriptionStyleModel",
      "_view_count": null,
      "_view_module": "@jupyter-widgets/base",
      "_view_module_version": "1.2.0",
      "_view_name": "StyleView",
      "description_width": ""
     }
    },
    "91eecfce0d8f4fc295286f7cbd1cf4c4": {
     "model_module": "@jupyter-widgets/controls",
     "model_module_version": "1.5.0",
     "model_name": "DescriptionStyleModel",
     "state": {
      "_model_module": "@jupyter-widgets/controls",
      "_model_module_version": "1.5.0",
      "_model_name": "DescriptionStyleModel",
      "_view_count": null,
      "_view_module": "@jupyter-widgets/base",
      "_view_module_version": "1.2.0",
      "_view_name": "StyleView",
      "description_width": ""
     }
    },
    "9b8613de308f42d9a614610fddfd39eb": {
     "model_module": "@jupyter-widgets/controls",
     "model_module_version": "1.5.0",
     "model_name": "ProgressStyleModel",
     "state": {
      "_model_module": "@jupyter-widgets/controls",
      "_model_module_version": "1.5.0",
      "_model_name": "ProgressStyleModel",
      "_view_count": null,
      "_view_module": "@jupyter-widgets/base",
      "_view_module_version": "1.2.0",
      "_view_name": "StyleView",
      "bar_color": null,
      "description_width": ""
     }
    },
    "9c524902acdc41778f0b4e7f5cf778f4": {
     "model_module": "@jupyter-widgets/controls",
     "model_module_version": "1.5.0",
     "model_name": "HTMLModel",
     "state": {
      "_dom_classes": [],
      "_model_module": "@jupyter-widgets/controls",
      "_model_module_version": "1.5.0",
      "_model_name": "HTMLModel",
      "_view_count": null,
      "_view_module": "@jupyter-widgets/controls",
      "_view_module_version": "1.5.0",
      "_view_name": "HTMLView",
      "description": "",
      "description_tooltip": null,
      "layout": "IPY_MODEL_b19a37c69a8b4b2996463c43ea0e37bb",
      "placeholder": "​",
      "style": "IPY_MODEL_8c9f2539a8b249d4a4e11264f459209a",
      "value": " 2.82k/2.82k [00:00&lt;00:00, 107kB/s]"
     }
    },
    "a0643ccf37be4207b332af06f06a20ab": {
     "model_module": "@jupyter-widgets/controls",
     "model_module_version": "1.5.0",
     "model_name": "HTMLModel",
     "state": {
      "_dom_classes": [],
      "_model_module": "@jupyter-widgets/controls",
      "_model_module_version": "1.5.0",
      "_model_name": "HTMLModel",
      "_view_count": null,
      "_view_module": "@jupyter-widgets/controls",
      "_view_module_version": "1.5.0",
      "_view_name": "HTMLView",
      "description": "",
      "description_tooltip": null,
      "layout": "IPY_MODEL_be8197f136a74b539fa4ff242a889f19",
      "placeholder": "​",
      "style": "IPY_MODEL_bdac5bdbb4864abb8fa9198af20712f2",
      "value": " 141/141 [00:00&lt;00:00, 10.0kB/s]"
     }
    },
    "a838c67d6c404df0adb7d8c01075de82": {
     "model_module": "@jupyter-widgets/base",
     "model_module_version": "1.2.0",
     "model_name": "LayoutModel",
     "state": {
      "_model_module": "@jupyter-widgets/base",
      "_model_module_version": "1.2.0",
      "_model_name": "LayoutModel",
      "_view_count": null,
      "_view_module": "@jupyter-widgets/base",
      "_view_module_version": "1.2.0",
      "_view_name": "LayoutView",
      "align_content": null,
      "align_items": null,
      "align_self": null,
      "border": null,
      "bottom": null,
      "display": null,
      "flex": null,
      "flex_flow": null,
      "grid_area": null,
      "grid_auto_columns": null,
      "grid_auto_flow": null,
      "grid_auto_rows": null,
      "grid_column": null,
      "grid_gap": null,
      "grid_row": null,
      "grid_template_areas": null,
      "grid_template_columns": null,
      "grid_template_rows": null,
      "height": null,
      "justify_content": null,
      "justify_items": null,
      "left": null,
      "margin": null,
      "max_height": null,
      "max_width": null,
      "min_height": null,
      "min_width": null,
      "object_fit": null,
      "object_position": null,
      "order": null,
      "overflow": null,
      "overflow_x": null,
      "overflow_y": null,
      "padding": null,
      "right": null,
      "top": null,
      "visibility": null,
      "width": null
     }
    },
    "afdb277deae043c890e95d6455c07645": {
     "model_module": "@jupyter-widgets/controls",
     "model_module_version": "1.5.0",
     "model_name": "HTMLModel",
     "state": {
      "_dom_classes": [],
      "_model_module": "@jupyter-widgets/controls",
      "_model_module_version": "1.5.0",
      "_model_name": "HTMLModel",
      "_view_count": null,
      "_view_module": "@jupyter-widgets/controls",
      "_view_module_version": "1.5.0",
      "_view_name": "HTMLView",
      "description": "",
      "description_tooltip": null,
      "layout": "IPY_MODEL_bf9985eb1c234ede93df2e8ca9d92f27",
      "placeholder": "​",
      "style": "IPY_MODEL_91eecfce0d8f4fc295286f7cbd1cf4c4",
      "value": " 707M/707M [00:04&lt;00:00, 251MB/s]"
     }
    },
    "b19a37c69a8b4b2996463c43ea0e37bb": {
     "model_module": "@jupyter-widgets/base",
     "model_module_version": "1.2.0",
     "model_name": "LayoutModel",
     "state": {
      "_model_module": "@jupyter-widgets/base",
      "_model_module_version": "1.2.0",
      "_model_name": "LayoutModel",
      "_view_count": null,
      "_view_module": "@jupyter-widgets/base",
      "_view_module_version": "1.2.0",
      "_view_name": "LayoutView",
      "align_content": null,
      "align_items": null,
      "align_self": null,
      "border": null,
      "bottom": null,
      "display": null,
      "flex": null,
      "flex_flow": null,
      "grid_area": null,
      "grid_auto_columns": null,
      "grid_auto_flow": null,
      "grid_auto_rows": null,
      "grid_column": null,
      "grid_gap": null,
      "grid_row": null,
      "grid_template_areas": null,
      "grid_template_columns": null,
      "grid_template_rows": null,
      "height": null,
      "justify_content": null,
      "justify_items": null,
      "left": null,
      "margin": null,
      "max_height": null,
      "max_width": null,
      "min_height": null,
      "min_width": null,
      "object_fit": null,
      "object_position": null,
      "order": null,
      "overflow": null,
      "overflow_x": null,
      "overflow_y": null,
      "padding": null,
      "right": null,
      "top": null,
      "visibility": null,
      "width": null
     }
    },
    "b56b2d3b8adb4cef979f2a407e71e985": {
     "model_module": "@jupyter-widgets/controls",
     "model_module_version": "1.5.0",
     "model_name": "HTMLModel",
     "state": {
      "_dom_classes": [],
      "_model_module": "@jupyter-widgets/controls",
      "_model_module_version": "1.5.0",
      "_model_name": "HTMLModel",
      "_view_count": null,
      "_view_module": "@jupyter-widgets/controls",
      "_view_module_version": "1.5.0",
      "_view_name": "HTMLView",
      "description": "",
      "description_tooltip": null,
      "layout": "IPY_MODEL_452540c091ea4f9698a1de1c2caf4e26",
      "placeholder": "​",
      "style": "IPY_MODEL_ecd84f357d544d94b6fa8e156f109220",
      "value": "Downloading pytorch_model.bin: 100%"
     }
    },
    "b697eec80f7c44d6ad6f16833ec3442f": {
     "model_module": "@jupyter-widgets/controls",
     "model_module_version": "1.5.0",
     "model_name": "HBoxModel",
     "state": {
      "_dom_classes": [],
      "_model_module": "@jupyter-widgets/controls",
      "_model_module_version": "1.5.0",
      "_model_name": "HBoxModel",
      "_view_count": null,
      "_view_module": "@jupyter-widgets/controls",
      "_view_module_version": "1.5.0",
      "_view_name": "HBoxView",
      "box_style": "",
      "children": [
       "IPY_MODEL_7ec5a4807bce418b82278ffb6380fcb3",
       "IPY_MODEL_0778405ea9f74e2d871f88c8e55499db",
       "IPY_MODEL_9c524902acdc41778f0b4e7f5cf778f4"
      ],
      "layout": "IPY_MODEL_0762bee29a014251a291903112986296"
     }
    },
    "bdac5bdbb4864abb8fa9198af20712f2": {
     "model_module": "@jupyter-widgets/controls",
     "model_module_version": "1.5.0",
     "model_name": "DescriptionStyleModel",
     "state": {
      "_model_module": "@jupyter-widgets/controls",
      "_model_module_version": "1.5.0",
      "_model_name": "DescriptionStyleModel",
      "_view_count": null,
      "_view_module": "@jupyter-widgets/base",
      "_view_module_version": "1.2.0",
      "_view_name": "StyleView",
      "description_width": ""
     }
    },
    "be8197f136a74b539fa4ff242a889f19": {
     "model_module": "@jupyter-widgets/base",
     "model_module_version": "1.2.0",
     "model_name": "LayoutModel",
     "state": {
      "_model_module": "@jupyter-widgets/base",
      "_model_module_version": "1.2.0",
      "_model_name": "LayoutModel",
      "_view_count": null,
      "_view_module": "@jupyter-widgets/base",
      "_view_module_version": "1.2.0",
      "_view_name": "LayoutView",
      "align_content": null,
      "align_items": null,
      "align_self": null,
      "border": null,
      "bottom": null,
      "display": null,
      "flex": null,
      "flex_flow": null,
      "grid_area": null,
      "grid_auto_columns": null,
      "grid_auto_flow": null,
      "grid_auto_rows": null,
      "grid_column": null,
      "grid_gap": null,
      "grid_row": null,
      "grid_template_areas": null,
      "grid_template_columns": null,
      "grid_template_rows": null,
      "height": null,
      "justify_content": null,
      "justify_items": null,
      "left": null,
      "margin": null,
      "max_height": null,
      "max_width": null,
      "min_height": null,
      "min_width": null,
      "object_fit": null,
      "object_position": null,
      "order": null,
      "overflow": null,
      "overflow_x": null,
      "overflow_y": null,
      "padding": null,
      "right": null,
      "top": null,
      "visibility": null,
      "width": null
     }
    },
    "bf9985eb1c234ede93df2e8ca9d92f27": {
     "model_module": "@jupyter-widgets/base",
     "model_module_version": "1.2.0",
     "model_name": "LayoutModel",
     "state": {
      "_model_module": "@jupyter-widgets/base",
      "_model_module_version": "1.2.0",
      "_model_name": "LayoutModel",
      "_view_count": null,
      "_view_module": "@jupyter-widgets/base",
      "_view_module_version": "1.2.0",
      "_view_name": "LayoutView",
      "align_content": null,
      "align_items": null,
      "align_self": null,
      "border": null,
      "bottom": null,
      "display": null,
      "flex": null,
      "flex_flow": null,
      "grid_area": null,
      "grid_auto_columns": null,
      "grid_auto_flow": null,
      "grid_auto_rows": null,
      "grid_column": null,
      "grid_gap": null,
      "grid_row": null,
      "grid_template_areas": null,
      "grid_template_columns": null,
      "grid_template_rows": null,
      "height": null,
      "justify_content": null,
      "justify_items": null,
      "left": null,
      "margin": null,
      "max_height": null,
      "max_width": null,
      "min_height": null,
      "min_width": null,
      "object_fit": null,
      "object_position": null,
      "order": null,
      "overflow": null,
      "overflow_x": null,
      "overflow_y": null,
      "padding": null,
      "right": null,
      "top": null,
      "visibility": null,
      "width": null
     }
    },
    "cd3580afe8d6414396136801dd71e412": {
     "model_module": "@jupyter-widgets/base",
     "model_module_version": "1.2.0",
     "model_name": "LayoutModel",
     "state": {
      "_model_module": "@jupyter-widgets/base",
      "_model_module_version": "1.2.0",
      "_model_name": "LayoutModel",
      "_view_count": null,
      "_view_module": "@jupyter-widgets/base",
      "_view_module_version": "1.2.0",
      "_view_name": "LayoutView",
      "align_content": null,
      "align_items": null,
      "align_self": null,
      "border": null,
      "bottom": null,
      "display": null,
      "flex": null,
      "flex_flow": null,
      "grid_area": null,
      "grid_auto_columns": null,
      "grid_auto_flow": null,
      "grid_auto_rows": null,
      "grid_column": null,
      "grid_gap": null,
      "grid_row": null,
      "grid_template_areas": null,
      "grid_template_columns": null,
      "grid_template_rows": null,
      "height": null,
      "justify_content": null,
      "justify_items": null,
      "left": null,
      "margin": null,
      "max_height": null,
      "max_width": null,
      "min_height": null,
      "min_width": null,
      "object_fit": null,
      "object_position": null,
      "order": null,
      "overflow": null,
      "overflow_x": null,
      "overflow_y": null,
      "padding": null,
      "right": null,
      "top": null,
      "visibility": null,
      "width": null
     }
    },
    "d5fbb1780d2a43d79f6e0f4814737167": {
     "model_module": "@jupyter-widgets/controls",
     "model_module_version": "1.5.0",
     "model_name": "FloatProgressModel",
     "state": {
      "_dom_classes": [],
      "_model_module": "@jupyter-widgets/controls",
      "_model_module_version": "1.5.0",
      "_model_name": "FloatProgressModel",
      "_view_count": null,
      "_view_module": "@jupyter-widgets/controls",
      "_view_module_version": "1.5.0",
      "_view_name": "ProgressView",
      "bar_style": "success",
      "description": "",
      "description_tooltip": null,
      "layout": "IPY_MODEL_05680fbaa47045a8bc1e87715ef3f649",
      "max": 141,
      "min": 0,
      "orientation": "horizontal",
      "style": "IPY_MODEL_d8bb5d13ce0f450ea1ce81a0035b3df0",
      "value": 141
     }
    },
    "d69dc435644040699255aa2676a89326": {
     "model_module": "@jupyter-widgets/base",
     "model_module_version": "1.2.0",
     "model_name": "LayoutModel",
     "state": {
      "_model_module": "@jupyter-widgets/base",
      "_model_module_version": "1.2.0",
      "_model_name": "LayoutModel",
      "_view_count": null,
      "_view_module": "@jupyter-widgets/base",
      "_view_module_version": "1.2.0",
      "_view_name": "LayoutView",
      "align_content": null,
      "align_items": null,
      "align_self": null,
      "border": null,
      "bottom": null,
      "display": null,
      "flex": null,
      "flex_flow": null,
      "grid_area": null,
      "grid_auto_columns": null,
      "grid_auto_flow": null,
      "grid_auto_rows": null,
      "grid_column": null,
      "grid_gap": null,
      "grid_row": null,
      "grid_template_areas": null,
      "grid_template_columns": null,
      "grid_template_rows": null,
      "height": null,
      "justify_content": null,
      "justify_items": null,
      "left": null,
      "margin": null,
      "max_height": null,
      "max_width": null,
      "min_height": null,
      "min_width": null,
      "object_fit": null,
      "object_position": null,
      "order": null,
      "overflow": null,
      "overflow_x": null,
      "overflow_y": null,
      "padding": null,
      "right": null,
      "top": null,
      "visibility": null,
      "width": null
     }
    },
    "d8bb5d13ce0f450ea1ce81a0035b3df0": {
     "model_module": "@jupyter-widgets/controls",
     "model_module_version": "1.5.0",
     "model_name": "ProgressStyleModel",
     "state": {
      "_model_module": "@jupyter-widgets/controls",
      "_model_module_version": "1.5.0",
      "_model_name": "ProgressStyleModel",
      "_view_count": null,
      "_view_module": "@jupyter-widgets/base",
      "_view_module_version": "1.2.0",
      "_view_name": "StyleView",
      "bar_color": null,
      "description_width": ""
     }
    },
    "e26e7df947d147a5b8c865816f5c6de8": {
     "model_module": "@jupyter-widgets/controls",
     "model_module_version": "1.5.0",
     "model_name": "HTMLModel",
     "state": {
      "_dom_classes": [],
      "_model_module": "@jupyter-widgets/controls",
      "_model_module_version": "1.5.0",
      "_model_name": "HTMLModel",
      "_view_count": null,
      "_view_module": "@jupyter-widgets/controls",
      "_view_module_version": "1.5.0",
      "_view_name": "HTMLView",
      "description": "",
      "description_tooltip": null,
      "layout": "IPY_MODEL_cd3580afe8d6414396136801dd71e412",
      "placeholder": "​",
      "style": "IPY_MODEL_67c7095d18e84e6da250b4f2a8a45cdd",
      "value": "Downloading (…)neration_config.json: 100%"
     }
    },
    "e4667eb3212847d1ba30a2b698a1948e": {
     "model_module": "@jupyter-widgets/controls",
     "model_module_version": "1.5.0",
     "model_name": "HBoxModel",
     "state": {
      "_dom_classes": [],
      "_model_module": "@jupyter-widgets/controls",
      "_model_module_version": "1.5.0",
      "_model_name": "HBoxModel",
      "_view_count": null,
      "_view_module": "@jupyter-widgets/controls",
      "_view_module_version": "1.5.0",
      "_view_name": "HBoxView",
      "box_style": "",
      "children": [
       "IPY_MODEL_b56b2d3b8adb4cef979f2a407e71e985",
       "IPY_MODEL_7e5bad02338849059e1caa5bdadf47a3",
       "IPY_MODEL_afdb277deae043c890e95d6455c07645"
      ],
      "layout": "IPY_MODEL_a838c67d6c404df0adb7d8c01075de82"
     }
    },
    "ecd84f357d544d94b6fa8e156f109220": {
     "model_module": "@jupyter-widgets/controls",
     "model_module_version": "1.5.0",
     "model_name": "DescriptionStyleModel",
     "state": {
      "_model_module": "@jupyter-widgets/controls",
      "_model_module_version": "1.5.0",
      "_model_name": "DescriptionStyleModel",
      "_view_count": null,
      "_view_module": "@jupyter-widgets/base",
      "_view_module_version": "1.2.0",
      "_view_name": "StyleView",
      "description_width": ""
     }
    },
    "f5dcbf9d4a424c9e971f87d3b1783efb": {
     "model_module": "@jupyter-widgets/controls",
     "model_module_version": "1.5.0",
     "model_name": "DescriptionStyleModel",
     "state": {
      "_model_module": "@jupyter-widgets/controls",
      "_model_module_version": "1.5.0",
      "_model_name": "DescriptionStyleModel",
      "_view_count": null,
      "_view_module": "@jupyter-widgets/base",
      "_view_module_version": "1.2.0",
      "_view_name": "StyleView",
      "description_width": ""
     }
    },
    "ff9cb0f42e3c415d87f0a726ea9e5331": {
     "model_module": "@jupyter-widgets/base",
     "model_module_version": "1.2.0",
     "model_name": "LayoutModel",
     "state": {
      "_model_module": "@jupyter-widgets/base",
      "_model_module_version": "1.2.0",
      "_model_name": "LayoutModel",
      "_view_count": null,
      "_view_module": "@jupyter-widgets/base",
      "_view_module_version": "1.2.0",
      "_view_name": "LayoutView",
      "align_content": null,
      "align_items": null,
      "align_self": null,
      "border": null,
      "bottom": null,
      "display": null,
      "flex": null,
      "flex_flow": null,
      "grid_area": null,
      "grid_auto_columns": null,
      "grid_auto_flow": null,
      "grid_auto_rows": null,
      "grid_column": null,
      "grid_gap": null,
      "grid_row": null,
      "grid_template_areas": null,
      "grid_template_columns": null,
      "grid_template_rows": null,
      "height": null,
      "justify_content": null,
      "justify_items": null,
      "left": null,
      "margin": null,
      "max_height": null,
      "max_width": null,
      "min_height": null,
      "min_width": null,
      "object_fit": null,
      "object_position": null,
      "order": null,
      "overflow": null,
      "overflow_x": null,
      "overflow_y": null,
      "padding": null,
      "right": null,
      "top": null,
      "visibility": null,
      "width": null
     }
    }
   }
  }
 },
 "nbformat": 4,
 "nbformat_minor": 5
}
