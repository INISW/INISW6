{
 "cells": [
  {
   "cell_type": "markdown",
   "id": "HKnw15x_0ARn",
   "metadata": {
    "id": "HKnw15x_0ARn"
   },
   "source": [
    "### 사전 준비"
   ]
  },
  {
   "cell_type": "code",
   "execution_count": 1,
   "id": "L7kbOStuFk27",
   "metadata": {
    "colab": {
     "base_uri": "https://localhost:8080/"
    },
    "executionInfo": {
     "elapsed": 20157,
     "status": "ok",
     "timestamp": 1687144922724,
     "user": {
      "displayName": "지능정보 SW아카데미6조",
      "userId": "12490553424211353381"
     },
     "user_tz": -540
    },
    "id": "L7kbOStuFk27",
    "outputId": "fe9f04e3-ea75-4f0f-fa62-1acf804ff708"
   },
   "outputs": [
    {
     "name": "stdout",
     "output_type": "stream",
     "text": [
      "Looking in indexes: https://pypi.org/simple, https://us-python.pkg.dev/colab-wheels/public/simple/\n",
      "Collecting transformers==4.29\n",
      "  Downloading transformers-4.29.0-py3-none-any.whl (7.1 MB)\n",
      "\u001b[2K     \u001b[90m━━━━━━━━━━━━━━━━━━━━━━━━━━━━━━━━━━━━━━━━\u001b[0m \u001b[32m7.1/7.1 MB\u001b[0m \u001b[31m62.0 MB/s\u001b[0m eta \u001b[36m0:00:00\u001b[0m\n",
      "\u001b[?25hRequirement already satisfied: torch in /usr/local/lib/python3.10/dist-packages (2.0.1+cu118)\n",
      "Requirement already satisfied: filelock in /usr/local/lib/python3.10/dist-packages (from transformers==4.29) (3.12.0)\n",
      "Collecting huggingface-hub<1.0,>=0.11.0 (from transformers==4.29)\n",
      "  Downloading huggingface_hub-0.15.1-py3-none-any.whl (236 kB)\n",
      "\u001b[2K     \u001b[90m━━━━━━━━━━━━━━━━━━━━━━━━━━━━━━━━━━━━━━\u001b[0m \u001b[32m236.8/236.8 kB\u001b[0m \u001b[31m29.8 MB/s\u001b[0m eta \u001b[36m0:00:00\u001b[0m\n",
      "\u001b[?25hRequirement already satisfied: numpy>=1.17 in /usr/local/lib/python3.10/dist-packages (from transformers==4.29) (1.22.4)\n",
      "Requirement already satisfied: packaging>=20.0 in /usr/local/lib/python3.10/dist-packages (from transformers==4.29) (23.1)\n",
      "Requirement already satisfied: pyyaml>=5.1 in /usr/local/lib/python3.10/dist-packages (from transformers==4.29) (6.0)\n",
      "Requirement already satisfied: regex!=2019.12.17 in /usr/local/lib/python3.10/dist-packages (from transformers==4.29) (2022.10.31)\n",
      "Requirement already satisfied: requests in /usr/local/lib/python3.10/dist-packages (from transformers==4.29) (2.27.1)\n",
      "Collecting tokenizers!=0.11.3,<0.14,>=0.11.1 (from transformers==4.29)\n",
      "  Downloading tokenizers-0.13.3-cp310-cp310-manylinux_2_17_x86_64.manylinux2014_x86_64.whl (7.8 MB)\n",
      "\u001b[2K     \u001b[90m━━━━━━━━━━━━━━━━━━━━━━━━━━━━━━━━━━━━━━━━\u001b[0m \u001b[32m7.8/7.8 MB\u001b[0m \u001b[31m128.4 MB/s\u001b[0m eta \u001b[36m0:00:00\u001b[0m\n",
      "\u001b[?25hRequirement already satisfied: tqdm>=4.27 in /usr/local/lib/python3.10/dist-packages (from transformers==4.29) (4.65.0)\n",
      "Requirement already satisfied: typing-extensions in /usr/local/lib/python3.10/dist-packages (from torch) (4.5.0)\n",
      "Requirement already satisfied: sympy in /usr/local/lib/python3.10/dist-packages (from torch) (1.11.1)\n",
      "Requirement already satisfied: networkx in /usr/local/lib/python3.10/dist-packages (from torch) (3.1)\n",
      "Requirement already satisfied: jinja2 in /usr/local/lib/python3.10/dist-packages (from torch) (3.1.2)\n",
      "Requirement already satisfied: triton==2.0.0 in /usr/local/lib/python3.10/dist-packages (from torch) (2.0.0)\n",
      "Requirement already satisfied: cmake in /usr/local/lib/python3.10/dist-packages (from triton==2.0.0->torch) (3.25.2)\n",
      "Requirement already satisfied: lit in /usr/local/lib/python3.10/dist-packages (from triton==2.0.0->torch) (16.0.5)\n",
      "Requirement already satisfied: fsspec in /usr/local/lib/python3.10/dist-packages (from huggingface-hub<1.0,>=0.11.0->transformers==4.29) (2023.4.0)\n",
      "Requirement already satisfied: MarkupSafe>=2.0 in /usr/local/lib/python3.10/dist-packages (from jinja2->torch) (2.1.2)\n",
      "Requirement already satisfied: urllib3<1.27,>=1.21.1 in /usr/local/lib/python3.10/dist-packages (from requests->transformers==4.29) (1.26.15)\n",
      "Requirement already satisfied: certifi>=2017.4.17 in /usr/local/lib/python3.10/dist-packages (from requests->transformers==4.29) (2022.12.7)\n",
      "Requirement already satisfied: charset-normalizer~=2.0.0 in /usr/local/lib/python3.10/dist-packages (from requests->transformers==4.29) (2.0.12)\n",
      "Requirement already satisfied: idna<4,>=2.5 in /usr/local/lib/python3.10/dist-packages (from requests->transformers==4.29) (3.4)\n",
      "Requirement already satisfied: mpmath>=0.19 in /usr/local/lib/python3.10/dist-packages (from sympy->torch) (1.3.0)\n",
      "Installing collected packages: tokenizers, huggingface-hub, transformers\n",
      "Successfully installed huggingface-hub-0.15.1 tokenizers-0.13.3 transformers-4.29.0\n"
     ]
    }
   ],
   "source": [
    "!pip install transformers==4.29 torch"
   ]
  },
  {
   "cell_type": "code",
   "execution_count": 2,
   "id": "60e91a46",
   "metadata": {
    "executionInfo": {
     "elapsed": 4960,
     "status": "ok",
     "timestamp": 1687144927679,
     "user": {
      "displayName": "지능정보 SW아카데미6조",
      "userId": "12490553424211353381"
     },
     "user_tz": -540
    },
    "id": "60e91a46"
   },
   "outputs": [],
   "source": [
    "import json\n",
    "import os\n",
    "from PIL import Image\n",
    "from torch import nn\n",
    "import torch\n",
    "import time"
   ]
  },
  {
   "cell_type": "code",
   "execution_count": 3,
   "id": "rQGLWL7NjZp9",
   "metadata": {
    "colab": {
     "base_uri": "https://localhost:8080/"
    },
    "executionInfo": {
     "elapsed": 34193,
     "status": "ok",
     "timestamp": 1687144961865,
     "user": {
      "displayName": "지능정보 SW아카데미6조",
      "userId": "12490553424211353381"
     },
     "user_tz": -540
    },
    "id": "rQGLWL7NjZp9",
    "outputId": "1163abac-1d4f-40a0-9700-b6272cbd714f"
   },
   "outputs": [
    {
     "name": "stdout",
     "output_type": "stream",
     "text": [
      "Mounted at /content/drive\n"
     ]
    }
   ],
   "source": [
    "from google.colab import drive\n",
    "drive.mount('/content/drive')"
   ]
  },
  {
   "cell_type": "markdown",
   "id": "7naDBBns_CKx",
   "metadata": {
    "id": "7naDBBns_CKx"
   },
   "source": [
    "### 모델 및 process 준비"
   ]
  },
  {
   "cell_type": "code",
   "execution_count": 4,
   "id": "1f8215d0",
   "metadata": {
    "executionInfo": {
     "elapsed": 43939,
     "status": "ok",
     "timestamp": 1687145149381,
     "user": {
      "displayName": "지능정보 SW아카데미6조",
      "userId": "12490553424211353381"
     },
     "user_tz": -540
    },
    "id": "1f8215d0"
   },
   "outputs": [],
   "source": [
    "from transformers import  AutoProcessor\n",
    "from transformers import AutoModelForCausalLM, Swin2SRImageProcessor, BlipProcessor\n",
    "import numpy as np\n",
    "processor_git = AutoProcessor.from_pretrained('/content/drive/MyDrive/재원/model/caption/git/preprocessor')\n",
    "model_git = torch.load('/content/drive/MyDrive/재원/model/caption/git/git_25000_all.pt')\n",
    "processor_blip = BlipProcessor.from_pretrained('/content/drive/MyDrive/최종_BLIP_모델/preprocessor')\n",
    "model_blip = torch.load('/content/drive/MyDrive/최종_BLIP_모델/blip_all_1e6_final.pt')\n",
    "pro_sr = Swin2SRImageProcessor.from_pretrained('/content/drive/MyDrive/재원/eval/sr/preprocessor')\n",
    "model_sr = torch.load('/content/drive/MyDrive/재원/eval/sr/swinsr.pt')"
   ]
  },
  {
   "cell_type": "code",
   "execution_count": 5,
   "id": "EkJtq1P0ddKI",
   "metadata": {
    "executionInfo": {
     "elapsed": 21,
     "status": "ok",
     "timestamp": 1687145149383,
     "user": {
      "displayName": "지능정보 SW아카데미6조",
      "userId": "12490553424211353381"
     },
     "user_tz": -540
    },
    "id": "EkJtq1P0ddKI"
   },
   "outputs": [],
   "source": [
    "def image_with_sr(orgin): # 이미지 데이터 가져오기]\n",
    "    image = super_reso(origin) if orgin.size[0]<50 or orgin.size[1]<100 else orgin\n",
    "    return image"
   ]
  },
  {
   "cell_type": "code",
   "execution_count": 120,
   "id": "_ZjlYpBwfTyS",
   "metadata": {
    "executionInfo": {
     "elapsed": 383,
     "status": "ok",
     "timestamp": 1687148853154,
     "user": {
      "displayName": "지능정보 SW아카데미6조",
      "userId": "12490553424211353381"
     },
     "user_tz": -540
    },
    "id": "_ZjlYpBwfTyS"
   },
   "outputs": [],
   "source": [
    "device = \"cuda\" if torch.cuda.is_available() else \"cpu\"\n",
    "model_sr.to(device)\n",
    "def super_reso(image):\n",
    "    inputs = pro_sr(image, return_tensors=\"pt\").to(device)\n",
    "\n",
    "    # forward pass\n",
    "    with torch.no_grad():\n",
    "        outputs = model_sr(**inputs)\n",
    "\n",
    "    output = outputs.reconstruction.data.squeeze().cpu().float().clamp_(0, 1).numpy()\n",
    "    output = np.moveaxis(output, source=0, destination=-1)\n",
    "    output = (output * 255.0).round().astype(np.uint8)\n",
    "    return Image.fromarray(output)"
   ]
  },
  {
   "cell_type": "code",
   "execution_count": 171,
   "id": "aff719a6",
   "metadata": {
    "executionInfo": {
     "elapsed": 397,
     "status": "ok",
     "timestamp": 1687150487006,
     "user": {
      "displayName": "지능정보 SW아카데미6조",
      "userId": "12490553424211353381"
     },
     "user_tz": -540
    },
    "id": "aff719a6",
    "scrolled": true
   },
   "outputs": [],
   "source": [
    "path = '/content/100.jpg'\n",
    "origin = Image.open(path)\n",
    "image1 = image_with_sr(origin)# 5000장에서 약 2분 소요"
   ]
  },
  {
   "cell_type": "code",
   "execution_count": 172,
   "id": "_npJ96ETd_2x",
   "metadata": {
    "executionInfo": {
     "elapsed": 1,
     "status": "ok",
     "timestamp": 1687150488516,
     "user": {
      "displayName": "지능정보 SW아카데미6조",
      "userId": "12490553424211353381"
     },
     "user_tz": -540
    },
    "id": "_npJ96ETd_2x"
   },
   "outputs": [],
   "source": [
    "pixel_values =  processor_git.image_processor(images=image1, return_tensors=\"pt\").pixel_values\n",
    "model_git.to(device);\n",
    "outputs_git=processor_git.batch_decode(model_git.generate(pixel_values=pixel_values.to(device),max_length = 300),skip_special_tokens=True)[0]"
   ]
  },
  {
   "cell_type": "code",
   "execution_count": 173,
   "id": "dCVGrIh6LRG_",
   "metadata": {
    "executionInfo": {
     "elapsed": 821,
     "status": "ok",
     "timestamp": 1687150490743,
     "user": {
      "displayName": "지능정보 SW아카데미6조",
      "userId": "12490553424211353381"
     },
     "user_tz": -540
    },
    "id": "dCVGrIh6LRG_"
   },
   "outputs": [],
   "source": [
    "pixel_values =  processor_blip.image_processor(images=image1, return_tensors=\"pt\").pixel_values\n",
    "model_blip.to(device)\n",
    "outputs_blip=processor_blip.batch_decode(model_blip.generate(pixel_values=pixel_values.to(device),max_length = 300),skip_special_tokens=True)[0]"
   ]
  },
  {
   "cell_type": "code",
   "execution_count": 174,
   "id": "wd-OQ5LJVxOM",
   "metadata": {
    "colab": {
     "base_uri": "https://localhost:8080/"
    },
    "executionInfo": {
     "elapsed": 2,
     "status": "ok",
     "timestamp": 1687150492028,
     "user": {
      "displayName": "지능정보 SW아카데미6조",
      "userId": "12490553424211353381"
     },
     "user_tz": -540
    },
    "id": "wd-OQ5LJVxOM",
    "outputId": "ffdd7c1e-519c-4f34-e0b5-94c786cec21e"
   },
   "outputs": [
    {
     "name": "stdout",
     "output_type": "stream",
     "text": [
      "a grown woman is dressed in a black one - piece top and carrying a bag.\n",
      "a senior woman is dressed in a black top with short sleeves, black pants that extend to her ankles, and carrying a bag.\n"
     ]
    }
   ],
   "source": [
    "print(outputs_git)\n",
    "print(outputs_blip)"
   ]
  },
  {
   "cell_type": "markdown",
   "id": "DoDbdpq7Tv8t",
   "metadata": {
    "id": "DoDbdpq7Tv8t"
   },
   "source": [
    "### 그리기"
   ]
  },
  {
   "cell_type": "code",
   "execution_count": 175,
   "id": "FJW6h2I6Y_3Y",
   "metadata": {
    "executionInfo": {
     "elapsed": 348,
     "status": "ok",
     "timestamp": 1687150497293,
     "user": {
      "displayName": "지능정보 SW아카데미6조",
      "userId": "12490553424211353381"
     },
     "user_tz": -540
    },
    "id": "FJW6h2I6Y_3Y"
   },
   "outputs": [],
   "source": [
    "import matplotlib.pyplot as plt"
   ]
  },
  {
   "cell_type": "code",
   "execution_count": 176,
   "id": "wP0u0z_Hnbky",
   "metadata": {
    "executionInfo": {
     "elapsed": 2,
     "status": "ok",
     "timestamp": 1687150498459,
     "user": {
      "displayName": "지능정보 SW아카데미6조",
      "userId": "12490553424211353381"
     },
     "user_tz": -540
    },
    "id": "wP0u0z_Hnbky"
   },
   "outputs": [],
   "source": [
    "gt = \"A senior woman is wearing black short shirt top and black long pants with a bag.\""
   ]
  },
  {
   "cell_type": "code",
   "execution_count": 177,
   "id": "AgPDNEB1OMS3",
   "metadata": {
    "colab": {
     "base_uri": "https://localhost:8080/",
     "height": 406
    },
    "executionInfo": {
     "elapsed": 5,
     "status": "ok",
     "timestamp": 1687150500153,
     "user": {
      "displayName": "지능정보 SW아카데미6조",
      "userId": "12490553424211353381"
     },
     "user_tz": -540
    },
    "id": "AgPDNEB1OMS3",
    "outputId": "46dbcca2-c50a-4c14-fe59-5f4a04ba67fb"
   },
   "outputs": [
    {
     "data": {
      "image/png": "[encoded data removed]",
      "text/plain": [
       "<Figure size 640x480 with 1 Axes>"
      ]
     },
     "metadata": {},
     "output_type": "display_data"
    }
   ],
   "source": [
    "plt.imshow(image1)\n",
    "#plt.text(-30, 114, str(image1.size), ha='left', va='top', fontsize=12, color='black')\n",
    "#plt.text(-55,133,f'GT: {gt}',fontsize=10,color='black')\n",
    "plt.axis('off')\n",
    "#plt.text(-55,143,f'{name}: {outputs_git.split(\",\")[0]},', fontsize=10,color='black')\n",
    "#plt.text(-45,153,f'{\",\".join(outputs_git.split(\",\")[1:])},', fontsize=10,color='black')\n",
    "plt.show();"
   ]
  },
  {
   "cell_type": "code",
   "execution_count": 178,
   "id": "JnkNWtH6dhMx",
   "metadata": {
    "colab": {
     "base_uri": "https://localhost:8080/"
    },
    "executionInfo": {
     "elapsed": 359,
     "status": "ok",
     "timestamp": 1687150503369,
     "user": {
      "displayName": "지능정보 SW아카데미6조",
      "userId": "12490553424211353381"
     },
     "user_tz": -540
    },
    "id": "JnkNWtH6dhMx",
    "outputId": "bfa25bc6-70a9-4e54-d609-0946716c237b"
   },
   "outputs": [
    {
     "name": "stdout",
     "output_type": "stream",
     "text": [
      "GT: A senior woman is wearing black short shirt top and black long pants with a bag.\n",
      "GIT: a grown woman is dressed in a black one - piece top and carrying a bag.\n",
      "BLIP: a senior woman is dressed in a black top with short sleeves, black pants that extend to her ankles, and carrying a bag.\n"
     ]
    }
   ],
   "source": [
    "print(\"GT:\",gt)\n",
    "print(\"GIT:\",outputs_git)\n",
    "print(\"BLIP:\",outputs_blip)"
   ]
  }
 ],
 "metadata": {
  "accelerator": "GPU",
  "colab": {
   "collapsed_sections": [
    "HKnw15x_0ARn"
   ],
   "gpuType": "V100",
   "provenance": []
  },
  "kernelspec": {
   "display_name": "Python 3 (ipykernel)",
   "language": "python",
   "name": "python3"
  },
  "language_info": {
   "codemirror_mode": {
    "name": "ipython",
    "version": 3
   },
   "file_extension": ".py",
   "mimetype": "text/x-python",
   "name": "python",
   "nbconvert_exporter": "python",
   "pygments_lexer": "ipython3",
   "version": "3.10.9"
  }
 },
 "nbformat": 4,
 "nbformat_minor": 5
}
