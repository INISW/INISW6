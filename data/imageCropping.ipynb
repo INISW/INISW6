{
 "cells": [
  {
   "cell_type": "code",
   "execution_count": 4,
   "id": "c1072a11",
   "metadata": {},
   "outputs": [],
   "source": [
    "import numpy as np\n",
    "import json\n",
    "import cv2\n",
    "import os\n",
    "from math import ceil, floor"
   ]
  },
  {
   "cell_type": "code",
   "execution_count": 5,
   "id": "83d10714",
   "metadata": {},
   "outputs": [
    {
     "name": "stdout",
     "output_type": "stream",
     "text": [
      "C:\\Users\\na062\\Desktop\\sw_pro\\video_dataset\n"
     ]
    }
   ],
   "source": [
    "%cd C:/Users\\na062/Desktop/sw_pro/video_dataset"
   ]
  },
  {
   "cell_type": "markdown",
   "id": "fb55b8a5",
   "metadata": {},
   "source": [
    "### 비디오 불러오기 "
   ]
  },
  {
   "cell_type": "markdown",
   "id": "fefc197b",
   "metadata": {},
   "source": [
    "|\n",
    "|- 유동 인구 분석을 위한 CCTV 영상 데이터 / image\n",
    "                 |                            |\n",
    "                                            ------\n",
    "                                            |     |\n",
    "                                          train   Validation"
   ]
  },
  {
   "cell_type": "code",
   "execution_count": 6,
   "id": "194da1b2",
   "metadata": {},
   "outputs": [],
   "source": [
    "#Json 데이터에서 box,Frame, id 꺼내오기 \n",
    "def InFoOfVideo(jsonData):\n",
    "    Id= []\n",
    "    Box=[]\n",
    "    Frame=[]\n",
    "    for  annotation in jsonData['annotations']:\n",
    "        if  annotation['id'] not in Id:\n",
    "            Box.append(annotation['bbox'])\n",
    "            Frame.append(annotation['frame'])\n",
    "            Id.append(annotation['id'])\n",
    "    return Box,Frame,Id"
   ]
  },
  {
   "cell_type": "code",
   "execution_count": 7,
   "id": "06192d50",
   "metadata": {},
   "outputs": [],
   "source": [
    "def Int(Box): # 조금 큰 이미지로 자르기\n",
    "    Box[0] = floor(Box[0])\n",
    "    Box[2] = floor(Box[2])\n",
    "    Box[1] = ceil(Box[1])\n",
    "    Box[3] = ceil(Box[3])\n",
    "    return Box"
   ]
  },
  {
   "cell_type": "code",
   "execution_count": 8,
   "id": "7d7ddc8b",
   "metadata": {
    "scrolled": false
   },
   "outputs": [],
   "source": [
    "def ImagesInVideo(Cap,Boxes,Frames,num,size): # cap=videocapture로 가져와 video에서 캡쳐하기 \n",
    "    images=[]\n",
    "    for i in range(num):\n",
    "        frame = Frames[i]\n",
    "        box = Int(Boxes[i])\n",
    "        Cap.set(cv2.CAP_PROP_POS_FRAMES,frame) # 해당 프레임에 접근\n",
    "        ret,image = Cap.read()\n",
    "        \n",
    "        images.append(image[box[1]:box[3],box[0]:box[2]]) if ret and 0 not in list(image.shape) else 0\n",
    "    return images"
   ]
  },
  {
   "cell_type": "code",
   "execution_count": 9,
   "id": "f55e0984",
   "metadata": {},
   "outputs": [],
   "source": [
    "def imwrite(filename, img, params=None):\n",
    "    result, n = cv2.imencode('.jpg', img)\n",
    "    if result:\n",
    "        with open(filename, 'wb') as f:\n",
    "            n.tofile(f)"
   ]
  },
  {
   "cell_type": "code",
   "execution_count": 21,
   "id": "9fa2cafd",
   "metadata": {},
   "outputs": [],
   "source": [
    "def MakingImagePerVideo(videopath,labelpath,Count,train=True):\n",
    "    trainpath = './image/Train'\n",
    "    validpath = './image/Validation'\n",
    "    count=0\n",
    "    Path = trainpath if train else validpath # Train, valid 구분하기\n",
    "    cap = cv2.VideoCapture(videopath) # 비디오 파일 접근 \n",
    "    with open(labelpath, 'r',encoding = 'utf-8' or 'cp949' ) as f: # json 파일 접근 \n",
    "        json_data = json.load(f)\n",
    "        \n",
    "    boxes,frames,ids = InFoOfVideo(json_data) # 정보 얻기\n",
    "    Size = json_data['video']['resolution'][:-1] # 비디오 데이터 크기 얻기\n",
    "    \n",
    "    ImageList = ImagesInVideo(cap,boxes,frames,len(ids),Size) #이미지 추출 \n",
    "    \n",
    "    # 사진 저장하기\n",
    "    videoname = videopath.split('/')[-1][:-4] # 비디오 이름 추출 \n",
    "    \n",
    "    for i in range(len(ImageList)):\n",
    "        imagename = videoname + '_'+ids[i]\n",
    "        path = Path+'/'+imagename+ '.jpg'\n",
    "        try:\n",
    "            imwrite(path,ImageList[i]) if os.path.isfile(path)==False else 0\n",
    "        except:\n",
    "            print(\"{} 비디오 {}번째 사진에서 오류 발생\".format(videoname,i+1))\n",
    "        else:\n",
    "            count+=1\n",
    "    return count"
   ]
  },
  {
   "cell_type": "code",
   "execution_count": 22,
   "id": "494e346f",
   "metadata": {
    "scrolled": true
   },
   "outputs": [
    {
     "name": "stdout",
     "output_type": "stream",
     "text": [
      "2021-08-04_10-06-00_wed_sunny_out_ju-ja_C0241 비디오 1번째 사진에서 오류 발생\n",
      "오전(9~12) 시간 폴더에서 2407장 생성\n",
      "\n",
      "3_ju-ja_1 해당 장소 이미지 개수: 2407 \n",
      "\n",
      "오후(12~16) 시간 폴더에서 2992장 생성\n",
      "\n",
      "저녁(16~20) 시간 폴더에서 3556장 생성\n",
      "\n",
      "4_ju-ja_2 해당 장소 이미지 개수: 6548 \n",
      "\n",
      "새벽(0~9) 시간 폴더에서 2046장 생성\n",
      "\n",
      "야간(20~24) 시간 폴더에서 2381장 생성\n",
      "\n",
      "저녁(16~20) 시간 폴더에서 3442장 생성\n",
      "\n",
      "5_sa-bt_1 해당 장소 이미지 개수: 7869 \n",
      "\n",
      "오전(9~12) 시간 폴더에서 2927장 생성\n",
      "\n",
      "오후(12~16) 시간 폴더에서 2369장 생성\n",
      "\n",
      "6_sa-bt_2 해당 장소 이미지 개수: 5296 \n",
      "\n",
      "새벽(0~9) 시간 폴더에서 1678장 생성\n",
      "\n",
      "저녁(16~20) 시간 폴더에서 3463장 생성\n",
      "\n",
      "7_sa-st_1 해당 장소 이미지 개수: 5141 \n",
      "\n",
      "야간(20~24) 시간 폴더에서 1882장 생성\n",
      "\n",
      "오후(12~16) 시간 폴더에서 2472장 생성\n",
      "\n",
      "8_sa-st_2 해당 장소 이미지 개수: 4354 \n",
      "\n",
      "오전(9~12) 시간 폴더에서 2228장 생성\n",
      "\n",
      "9_sa-st_3 해당 장소 이미지 개수: 2228 \n",
      "\n"
     ]
    }
   ],
   "source": [
    "StdPath = './유동 인구 분석을 위한 CCTV 영상 데이터'\n",
    "Train=True\n",
    "for typefolder in os.listdir(StdPath):\n",
    "    temppath = StdPath+'/'+typefolder # Train,validation으로 접근\n",
    "    Train = True if typefolder=='Training' else False\n",
    "    temp_label = temppath+'/Label' # 라벨링 데이터 모음 폴더으로 접근 \n",
    "    temp_video = temppath+'/Video' # 비디오 데이터 모읍 파일 폴더로 접근\n",
    "    for place_folder in os.listdir(temp_video): # 장소에 대한 폴더로 접근\n",
    "        count=0\n",
    "        for time_folder in os.listdir(temp_video +'/'+ place_folder): # 시간 폴더에 대한 접근 \n",
    "            time = 0\n",
    "            for file in os.listdir(temp_video +'/'+place_folder + '/'+time_folder): # 각각 비디오 파일 이름에 대한 정보  \n",
    "                VideoPath = temp_video +'/'+ place_folder + '/'+time_folder+'/'+file\n",
    "                LabelPath = temp_label +'/'+ place_folder + '/'+time_folder+'/'+ file[:-4]+'.json' \n",
    "                num = MakingImagePerVideo(VideoPath,LabelPath,count,Train) # 작업 시작 \n",
    "                #print(\"{} 비디오 추출 완료 몇장: {} \\n\".format(file[:-4],num))\n",
    "                time+=num\n",
    "                count+=num\n",
    "            print(\"{} 시간 폴더에서 {}장 생성\".format(time_folder,time))\n",
    "            print()\n",
    "        print(\"{} 해당 장소 이미지 개수: {} \".format(place_folder,count))\n",
    "        print()\n",
    "    break"
   ]
  },
  {
   "cell_type": "markdown",
   "id": "50cc7f2b",
   "metadata": {},
   "source": [
    "2021-08-04_10-06-00_wed_sunny_out_ju-ja_C0241 비디오 1번째 사진에서 오류 발생"
   ]
  },
  {
   "cell_type": "code",
   "execution_count": null,
   "id": "d0151108",
   "metadata": {},
   "outputs": [],
   "source": []
  }
 ],
 "metadata": {
  "kernelspec": {
   "display_name": "Python 3 (ipykernel)",
   "language": "python",
   "name": "python3"
  },
  "language_info": {
   "codemirror_mode": {
    "name": "ipython",
    "version": 3
   },
   "file_extension": ".py",
   "mimetype": "text/x-python",
   "name": "python",
   "nbconvert_exporter": "python",
   "pygments_lexer": "ipython3",
   "version": "3.10.9"
  }
 },
 "nbformat": 4,
 "nbformat_minor": 5
}
