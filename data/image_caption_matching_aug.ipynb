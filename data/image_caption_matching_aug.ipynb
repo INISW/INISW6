{
 "cells": [
  {
   "cell_type": "code",
   "execution_count": 1,
   "id": "15c5a665",
   "metadata": {},
   "outputs": [],
   "source": [
    "import json\n",
    "from PIL import Image\n",
    "import re\n",
    "import random\n",
    "random.seed(777)"
   ]
  },
  {
   "attachments": {},
   "cell_type": "markdown",
   "id": "5c1cb89f",
   "metadata": {},
   "source": [
    "### train_set 만들기"
   ]
  },
  {
   "cell_type": "code",
   "execution_count": 2,
   "id": "af3ff126",
   "metadata": {
    "scrolled": true
   },
   "outputs": [
    {
     "name": "stdout",
     "output_type": "stream",
     "text": [
      "C:\\Users\\na062\\Desktop\\25000\n"
     ]
    }
   ],
   "source": [
    "%cd C:\\Users\\na062\\Desktop\\25000 # 데이터 있는 폴더로 이동"
   ]
  },
  {
   "cell_type": "code",
   "execution_count": 3,
   "id": "091440a4",
   "metadata": {},
   "outputs": [],
   "source": [
    "def caption_shuffle(caption):\n",
    "    for annotation in caption:\n",
    "        random.shuffle(annotation['label'])"
   ]
  },
  {
   "cell_type": "code",
   "execution_count": 4,
   "id": "debdf222",
   "metadata": {},
   "outputs": [],
   "source": [
    "def caption_split(annotation):\n",
    "    caption_set = []\n",
    "    caption_set.append({'image':annotation['image'],'label':annotation['label'][0]})\n",
    "    for i in range(1,5):\n",
    "        imagename = annotation['image'].split('.jpg')[0]+f'-{i}.jpg'\n",
    "        caption_set.append({'image':imagename,'label':annotation['label'][i]})\n",
    "    return caption_set"
   ]
  },
  {
   "cell_type": "code",
   "execution_count": 5,
   "id": "8bafee57",
   "metadata": {},
   "outputs": [],
   "source": [
    "def augment_captions(captions):\n",
    "    augment_captions=[]\n",
    "    for annotation in captions:\n",
    "        augment_captions+=caption_split(annotation)\n",
    "    return augment_captions"
   ]
  },
  {
   "cell_type": "code",
   "execution_count": 6,
   "id": "bae0a4cc",
   "metadata": {},
   "outputs": [],
   "source": [
    "def make_5_captions(caption,ids,num,id_of_captions,orgin_captions):\n",
    "    origin = re.sub('image','',caption['image'][:-4].split('-')[0])\n",
    "    number = re.sub('image','',caption['image'][:-4].split('-')[-1]) # ??? \n",
    "    # 원래 이미지에 관한 캡션으로 접근하여 5개의 캡션을 받아온다. \n",
    "    captionlist= captions[id_of_captions.index(origin)]['label']\n",
    "    caption_5 = []\n",
    "    for caption_origin in captionlist:\n",
    "        caption_5.append({'image_id':ids+1,'caption':caption_origin,'id':num+1})\n",
    "        num+=1\n",
    "    ids+=1\n",
    "    return caption_5\n"
   ]
  },
  {
   "cell_type": "code",
   "execution_count": 7,
   "id": "dff73372",
   "metadata": {},
   "outputs": [],
   "source": [
    "def make_gt(captions,id_of_captions,origin_captions):\n",
    "    annotations=[]\n",
    "    images = []\n",
    "    ids=0\n",
    "    num=0\n",
    "    for caption in captions:\n",
    "        annotations+=make_5_captions(caption,ids,num,id_of_captions,origin_captions)\n",
    "        images.append({'id':ids+1})\n",
    "        ids+=1\n",
    "        num+=5\n",
    "    gt_captions ={\n",
    "        'annotations': annotations,\n",
    "        'images': images\n",
    "    }\n",
    "    return gt_captions"
   ]
  },
  {
   "cell_type": "code",
   "execution_count": 8,
   "id": "ca3f1a58",
   "metadata": {},
   "outputs": [],
   "source": [
    "with open(\"caption5_augmented.json\",'r') as f:\n",
    "    captions = json.load(f)\n",
    "\n",
    "caption_shuffle(captions) # label 임의대로 섞기\n",
    "match_captions = augment_captions(captions) #train처럼 (1:1)로 만들기 \n",
    "random.shuffle(match_captions) #  셔플 \n",
    "\n",
    "train_captions = match_captions[:int(0.8*25000)]\n",
    "val_captions = match_captions[int(0.8*25000):] # 5000개 *5개 \n",
    "\n",
    "id_of_captions = [re.sub('image','',caption['image'][:-4]) for caption in captions] # 리스트 생성 \n",
    "gt_captions = make_gt(val_captions,id_of_captions,captions)"
   ]
  },
  {
   "cell_type": "code",
   "execution_count": 9,
   "id": "b2b56c43",
   "metadata": {},
   "outputs": [],
   "source": [
    "with open ('shuffled_captions.json','w') as f:\n",
    "    json.dump(match_captions,f)\n",
    "\n",
    "with open('gt_captions.json','w') as f:\n",
    "    json.dump(gt_captions,f)"
   ]
  }
 ],
 "metadata": {
  "kernelspec": {
   "display_name": "GIT",
   "language": "python",
   "name": "git"
  },
  "language_info": {
   "codemirror_mode": {
    "name": "ipython",
    "version": 3
   },
   "file_extension": ".py",
   "mimetype": "text/x-python",
   "name": "python",
   "nbconvert_exporter": "python",
   "pygments_lexer": "ipython3",
   "version": "3.10.11"
  }
 },
 "nbformat": 4,
 "nbformat_minor": 5
}
